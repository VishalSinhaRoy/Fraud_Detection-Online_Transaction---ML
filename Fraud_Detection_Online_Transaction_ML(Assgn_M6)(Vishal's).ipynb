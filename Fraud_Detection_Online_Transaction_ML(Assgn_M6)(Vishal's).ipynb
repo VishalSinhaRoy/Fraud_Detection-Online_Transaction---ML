{
  "nbformat": 4,
  "nbformat_minor": 0,
  "metadata": {
    "colab": {
      "provenance": [],
      "authorship_tag": "ABX9TyOcOmPScohYZ8NLimqEzn9c",
      "include_colab_link": true
    },
    "kernelspec": {
      "name": "python3",
      "display_name": "Python 3"
    },
    "language_info": {
      "name": "python"
    }
  },
  "cells": [
    {
      "cell_type": "markdown",
      "metadata": {
        "id": "view-in-github",
        "colab_type": "text"
      },
      "source": [
        "<a href=\"https://colab.research.google.com/github/VishalSinhaRoy/Fraud_Detection-Online_Transaction-ML/blob/main/Fraud_Detection_Online_Transaction_ML(Assgn_M6)(Vishal's).ipynb\" target=\"_parent\"><img src=\"https://colab.research.google.com/assets/colab-badge.svg\" alt=\"Open In Colab\"/></a>"
      ]
    },
    {
      "cell_type": "markdown",
      "source": [
        "# **Project Name**    - Fraud Detection-Online Transaction-ML\n",
        "\n"
      ],
      "metadata": {
        "id": "vncDsAP0Gaoa"
      }
    },
    {
      "cell_type": "markdown",
      "source": [
        "##### **Project Type**    - EDA/Regression/Classification/Unsupervised\n",
        "##### **Contribution**    - Individual\n"
      ],
      "metadata": {
        "id": "beRrZCGUAJYm"
      }
    },
    {
      "cell_type": "markdown",
      "source": [
        "# **Project Summary -**"
      ],
      "metadata": {
        "id": "FJNUwmbgGyua"
      }
    },
    {
      "cell_type": "markdown",
      "source": [
        "Online payment has become the most prevalent method of conducting transactions globally, driven by the convenience and speed it offers. As people increasingly turn to digital methods for their financial transactions—whether for shopping, bill payments, or money transfers—the volume of online payments has surged. However, this growth in online payment activity has also led to a corresponding increase in payment fraud, posing significant challenges to consumers, businesses, and financial institutions.\n",
        "\n",
        "Payment fraud involves unauthorized transactions carried out by cybercriminals who exploit weaknesses in online payment systems. This type of fraud can take many forms, including but not limited to, phishing attacks, identity theft, and the use of stolen credit card information. The consequences of such fraud are severe, resulting in financial losses for individuals and companies, as well as damaging trust in online payment systems.\n",
        "\n",
        "The primary aim of this study is to develop methods to accurately distinguish between fraudulent and non-fraudulent online payments. By effectively identifying fraudulent transactions, the goal is to mitigate the risks associated with online payment fraud and enhance the security of digital transactions.\n",
        "\n",
        "The dataset utilized in this study is sourced from Kaggle, a well-known platform for data science and machine learning competitions and datasets. This specific dataset contains historical transaction data, including information on which transactions were identified as fraudulent. By analyzing this data, it is possible to train machine learning models to recognize patterns and indicators of fraudulent activity. These models can then be applied to new, unseen transactions to predict and flag potential fraud in real-time, thereby preventing fraudulent transactions before they can cause harm.\n",
        "\n",
        "In summary, this study leverages historical transaction data to develop robust fraud detection mechanisms, aiming to protect the integrity of online payment systems and safeguard users against the ever-growing threat of payment fraud."
      ],
      "metadata": {
        "id": "F6v_1wHtG2nS"
      }
    },
    {
      "cell_type": "markdown",
      "source": [
        "# **GitHub Link -**"
      ],
      "metadata": {
        "id": "w6K7xa23Elo4"
      }
    },
    {
      "cell_type": "markdown",
      "source": [
        "Provide your GitHub Link here."
      ],
      "metadata": {
        "id": "h1o69JH3Eqqn"
      }
    },
    {
      "cell_type": "markdown",
      "source": [
        "# **Problem Statement**\n"
      ],
      "metadata": {
        "id": "yQaldy8SH6Dl"
      }
    },
    {
      "cell_type": "markdown",
      "source": [
        "The rise of online payments has led to an increase in payment fraud, causing significant financial losses and eroding trust in digital transactions. This study aims to develop machine learning models to accurately identify fraudulent transactions using a Kaggle dataset of historical transaction data. The goal is to enhance the security of online payment systems by reducing the incidence of fraud and protecting users. Key objectives include identifying features of fraud, selecting effective algorithms, and optimizing model performance for real-time fraud detection."
      ],
      "metadata": {
        "id": "DpeJGUA3kjGy"
      }
    },
    {
      "cell_type": "markdown",
      "source": [
        "**Description**\n",
        "\n",
        "The dataset consists of 10 variables:\n",
        "\n",
        "*  step: represents a unit of time where 1 step equals 1 hour\n",
        "*  type: type of online transaction\n",
        "*  amount: the amount of the transaction\n",
        "*  nameOrig: customer starting the transaction\n",
        "*  oldbalanceOrg: balance before the transaction\n",
        "*  newbalanceOrig: balance after the transaction\n",
        "*  nameDest: recipient of the transaction\n",
        "*  oldbalanceDest: initial balance of recipient before the transaction\n",
        "*  newbalanceDest: the new balance of recipient after the transaction\n",
        "*  isFraud: fraud transaction\n",
        "*  isFlaggedFraud: a suspicion of fraudulent activity is thrown up by the presence of one or more Early Warning Signals"
      ],
      "metadata": {
        "id": "r-MAV-W0XmNY"
      }
    },
    {
      "cell_type": "markdown",
      "source": [
        "# **General Guidelines** : -  "
      ],
      "metadata": {
        "id": "mDgbUHAGgjLW"
      }
    },
    {
      "cell_type": "markdown",
      "source": [
        "1.   Well-structured, formatted, and commented code is required.\n",
        "2.   Exception Handling, Production Grade Code & Deployment Ready Code will be a plus. Those students will be awarded some additional credits.\n",
        "     \n",
        "     The additional credits will have advantages over other students during Star Student selection.\n",
        "       \n",
        "             [ Note: - Deployment Ready Code is defined as, the whole .ipynb notebook should be executable in one go\n",
        "                       without a single error logged. ]\n",
        "\n",
        "3.   Each and every logic should have proper comments.\n",
        "4. You may add as many number of charts you want. Make Sure for each and every chart the following format should be answered.\n",
        "        \n",
        "\n",
        "```\n",
        "# Chart visualization code\n",
        "```\n",
        "            \n",
        "\n",
        "*   Why did you pick the specific chart?\n",
        "*   What is/are the insight(s) found from the chart?\n",
        "* Will the gained insights help creating a positive business impact?\n",
        "Are there any insights that lead to negative growth? Justify with specific reason.\n",
        "\n",
        "5. You have to create at least 15 logical & meaningful charts having important insights.\n",
        "\n",
        "\n",
        "[ Hints : - Do the Vizualization in  a structured way while following \"UBM\" Rule.\n",
        "\n",
        "U - Univariate Analysis,\n",
        "\n",
        "B - Bivariate Analysis (Numerical - Categorical, Numerical - Numerical, Categorical - Categorical)\n",
        "\n",
        "M - Multivariate Analysis\n",
        " ]\n",
        "\n",
        "\n",
        "\n",
        "\n",
        "\n",
        "6. You may add more ml algorithms for model creation. Make sure for each and every algorithm, the following format should be answered.\n",
        "\n",
        "\n",
        "*   Explain the ML Model used and it's performance using Evaluation metric Score Chart.\n",
        "\n",
        "\n",
        "*   Cross- Validation & Hyperparameter Tuning\n",
        "\n",
        "*   Have you seen any improvement? Note down the improvement with updates Evaluation metric Score Chart.\n",
        "\n",
        "*   Explain each evaluation metric's indication towards business and the business impact pf the ML model used.\n",
        "\n",
        "\n",
        "\n",
        "\n",
        "\n",
        "\n",
        "\n",
        "\n",
        "\n",
        "\n",
        "\n",
        "\n",
        "\n",
        "\n",
        "\n",
        "\n",
        "\n",
        "\n"
      ],
      "metadata": {
        "id": "ZrxVaUj-hHfC"
      }
    },
    {
      "cell_type": "markdown",
      "source": [
        "# ***Let's Begin !***"
      ],
      "metadata": {
        "id": "O_i_v8NEhb9l"
      }
    },
    {
      "cell_type": "markdown",
      "source": [
        "## ***1. Know Your Data***"
      ],
      "metadata": {
        "id": "HhfV-JJviCcP"
      }
    },
    {
      "cell_type": "markdown",
      "source": [
        "### Import Libraries"
      ],
      "metadata": {
        "id": "Y3lxredqlCYt"
      }
    },
    {
      "cell_type": "code",
      "source": [
        "# Import Libraries\n",
        "import numpy as np\n",
        "import pandas as pd\n",
        "import matplotlib.pyplot as plt\n",
        "%matplotlib inline\n",
        "import seaborn as sns\n",
        "sns.set()\n",
        "from tabulate import tabulate\n",
        "import scipy.stats as stats\n",
        "from scipy import stats\n",
        "from scipy.stats import *\n",
        "from imblearn.over_sampling import SMOTE\n",
        "from sklearn.model_selection import train_test_split\n",
        "from sklearn.preprocessing import StandardScaler\n",
        "from sklearn.metrics import average_precision_score, confusion_matrix, ConfusionMatrixDisplay, classification_report, roc_curve, auc, accuracy_score\n",
        "from sklearn.datasets import load_iris\n",
        "from sklearn.ensemble import RandomForestClassifier\n",
        "import xgboost as xgb\n",
        "from xgboost.sklearn import XGBClassifier"
      ],
      "metadata": {
        "id": "M8Vqi-pPk-HR"
      },
      "execution_count": null,
      "outputs": []
    },
    {
      "cell_type": "markdown",
      "source": [
        "### Dataset Loading"
      ],
      "metadata": {
        "id": "3RnN4peoiCZX"
      }
    },
    {
      "cell_type": "code",
      "source": [
        "# Load Dataset\n",
        "path='/content/drive/MyDrive/onlinefraud[1].csv'\n",
        "df_original=pd.read_csv(path)"
      ],
      "metadata": {
        "id": "4CkvbW_SlZ_R"
      },
      "execution_count": null,
      "outputs": []
    },
    {
      "cell_type": "code",
      "source": [
        "from google.colab import drive\n",
        "drive.mount('/content/drive')"
      ],
      "metadata": {
        "colab": {
          "base_uri": "https://localhost:8080/"
        },
        "id": "JNs1CTc6acJP",
        "outputId": "0ffac4e4-bbd1-43bc-8716-f8bbeff2c291"
      },
      "execution_count": null,
      "outputs": [
        {
          "output_type": "stream",
          "name": "stdout",
          "text": [
            "Mounted at /content/drive\n"
          ]
        }
      ]
    },
    {
      "cell_type": "code",
      "source": [
        "df_fraud=df_original.copy()"
      ],
      "metadata": {
        "id": "l_dhDuA1bLnc"
      },
      "execution_count": null,
      "outputs": []
    },
    {
      "cell_type": "markdown",
      "source": [
        "### Dataset First View"
      ],
      "metadata": {
        "id": "x71ZqKXriCWQ"
      }
    },
    {
      "cell_type": "code",
      "source": [
        "# Dataset First Look\n",
        "df_fraud.head()"
      ],
      "metadata": {
        "id": "LWNFOSvLl09H",
        "colab": {
          "base_uri": "https://localhost:8080/",
          "height": 206
        },
        "outputId": "d709f86c-624d-44fa-fe21-626f50d36f15"
      },
      "execution_count": null,
      "outputs": [
        {
          "output_type": "execute_result",
          "data": {
            "text/plain": [
              "   step      type    amount     nameOrig  oldbalanceOrg  newbalanceOrig  \\\n",
              "0     1   PAYMENT   9839.64  C1231006815       170136.0       160296.36   \n",
              "1     1   PAYMENT   1864.28  C1666544295        21249.0        19384.72   \n",
              "2     1  TRANSFER    181.00  C1305486145          181.0            0.00   \n",
              "3     1  CASH_OUT    181.00   C840083671          181.0            0.00   \n",
              "4     1   PAYMENT  11668.14  C2048537720        41554.0        29885.86   \n",
              "\n",
              "      nameDest  oldbalanceDest  newbalanceDest  isFraud  isFlaggedFraud  \n",
              "0  M1979787155             0.0             0.0        0               0  \n",
              "1  M2044282225             0.0             0.0        0               0  \n",
              "2   C553264065             0.0             0.0        1               0  \n",
              "3    C38997010         21182.0             0.0        1               0  \n",
              "4  M1230701703             0.0             0.0        0               0  "
            ],
            "text/html": [
              "\n",
              "  <div id=\"df-a285e6b5-eba5-41ef-a70b-644b06df4227\" class=\"colab-df-container\">\n",
              "    <div>\n",
              "<style scoped>\n",
              "    .dataframe tbody tr th:only-of-type {\n",
              "        vertical-align: middle;\n",
              "    }\n",
              "\n",
              "    .dataframe tbody tr th {\n",
              "        vertical-align: top;\n",
              "    }\n",
              "\n",
              "    .dataframe thead th {\n",
              "        text-align: right;\n",
              "    }\n",
              "</style>\n",
              "<table border=\"1\" class=\"dataframe\">\n",
              "  <thead>\n",
              "    <tr style=\"text-align: right;\">\n",
              "      <th></th>\n",
              "      <th>step</th>\n",
              "      <th>type</th>\n",
              "      <th>amount</th>\n",
              "      <th>nameOrig</th>\n",
              "      <th>oldbalanceOrg</th>\n",
              "      <th>newbalanceOrig</th>\n",
              "      <th>nameDest</th>\n",
              "      <th>oldbalanceDest</th>\n",
              "      <th>newbalanceDest</th>\n",
              "      <th>isFraud</th>\n",
              "      <th>isFlaggedFraud</th>\n",
              "    </tr>\n",
              "  </thead>\n",
              "  <tbody>\n",
              "    <tr>\n",
              "      <th>0</th>\n",
              "      <td>1</td>\n",
              "      <td>PAYMENT</td>\n",
              "      <td>9839.64</td>\n",
              "      <td>C1231006815</td>\n",
              "      <td>170136.0</td>\n",
              "      <td>160296.36</td>\n",
              "      <td>M1979787155</td>\n",
              "      <td>0.0</td>\n",
              "      <td>0.0</td>\n",
              "      <td>0</td>\n",
              "      <td>0</td>\n",
              "    </tr>\n",
              "    <tr>\n",
              "      <th>1</th>\n",
              "      <td>1</td>\n",
              "      <td>PAYMENT</td>\n",
              "      <td>1864.28</td>\n",
              "      <td>C1666544295</td>\n",
              "      <td>21249.0</td>\n",
              "      <td>19384.72</td>\n",
              "      <td>M2044282225</td>\n",
              "      <td>0.0</td>\n",
              "      <td>0.0</td>\n",
              "      <td>0</td>\n",
              "      <td>0</td>\n",
              "    </tr>\n",
              "    <tr>\n",
              "      <th>2</th>\n",
              "      <td>1</td>\n",
              "      <td>TRANSFER</td>\n",
              "      <td>181.00</td>\n",
              "      <td>C1305486145</td>\n",
              "      <td>181.0</td>\n",
              "      <td>0.00</td>\n",
              "      <td>C553264065</td>\n",
              "      <td>0.0</td>\n",
              "      <td>0.0</td>\n",
              "      <td>1</td>\n",
              "      <td>0</td>\n",
              "    </tr>\n",
              "    <tr>\n",
              "      <th>3</th>\n",
              "      <td>1</td>\n",
              "      <td>CASH_OUT</td>\n",
              "      <td>181.00</td>\n",
              "      <td>C840083671</td>\n",
              "      <td>181.0</td>\n",
              "      <td>0.00</td>\n",
              "      <td>C38997010</td>\n",
              "      <td>21182.0</td>\n",
              "      <td>0.0</td>\n",
              "      <td>1</td>\n",
              "      <td>0</td>\n",
              "    </tr>\n",
              "    <tr>\n",
              "      <th>4</th>\n",
              "      <td>1</td>\n",
              "      <td>PAYMENT</td>\n",
              "      <td>11668.14</td>\n",
              "      <td>C2048537720</td>\n",
              "      <td>41554.0</td>\n",
              "      <td>29885.86</td>\n",
              "      <td>M1230701703</td>\n",
              "      <td>0.0</td>\n",
              "      <td>0.0</td>\n",
              "      <td>0</td>\n",
              "      <td>0</td>\n",
              "    </tr>\n",
              "  </tbody>\n",
              "</table>\n",
              "</div>\n",
              "    <div class=\"colab-df-buttons\">\n",
              "\n",
              "  <div class=\"colab-df-container\">\n",
              "    <button class=\"colab-df-convert\" onclick=\"convertToInteractive('df-a285e6b5-eba5-41ef-a70b-644b06df4227')\"\n",
              "            title=\"Convert this dataframe to an interactive table.\"\n",
              "            style=\"display:none;\">\n",
              "\n",
              "  <svg xmlns=\"http://www.w3.org/2000/svg\" height=\"24px\" viewBox=\"0 -960 960 960\">\n",
              "    <path d=\"M120-120v-720h720v720H120Zm60-500h600v-160H180v160Zm220 220h160v-160H400v160Zm0 220h160v-160H400v160ZM180-400h160v-160H180v160Zm440 0h160v-160H620v160ZM180-180h160v-160H180v160Zm440 0h160v-160H620v160Z\"/>\n",
              "  </svg>\n",
              "    </button>\n",
              "\n",
              "  <style>\n",
              "    .colab-df-container {\n",
              "      display:flex;\n",
              "      gap: 12px;\n",
              "    }\n",
              "\n",
              "    .colab-df-convert {\n",
              "      background-color: #E8F0FE;\n",
              "      border: none;\n",
              "      border-radius: 50%;\n",
              "      cursor: pointer;\n",
              "      display: none;\n",
              "      fill: #1967D2;\n",
              "      height: 32px;\n",
              "      padding: 0 0 0 0;\n",
              "      width: 32px;\n",
              "    }\n",
              "\n",
              "    .colab-df-convert:hover {\n",
              "      background-color: #E2EBFA;\n",
              "      box-shadow: 0px 1px 2px rgba(60, 64, 67, 0.3), 0px 1px 3px 1px rgba(60, 64, 67, 0.15);\n",
              "      fill: #174EA6;\n",
              "    }\n",
              "\n",
              "    .colab-df-buttons div {\n",
              "      margin-bottom: 4px;\n",
              "    }\n",
              "\n",
              "    [theme=dark] .colab-df-convert {\n",
              "      background-color: #3B4455;\n",
              "      fill: #D2E3FC;\n",
              "    }\n",
              "\n",
              "    [theme=dark] .colab-df-convert:hover {\n",
              "      background-color: #434B5C;\n",
              "      box-shadow: 0px 1px 3px 1px rgba(0, 0, 0, 0.15);\n",
              "      filter: drop-shadow(0px 1px 2px rgba(0, 0, 0, 0.3));\n",
              "      fill: #FFFFFF;\n",
              "    }\n",
              "  </style>\n",
              "\n",
              "    <script>\n",
              "      const buttonEl =\n",
              "        document.querySelector('#df-a285e6b5-eba5-41ef-a70b-644b06df4227 button.colab-df-convert');\n",
              "      buttonEl.style.display =\n",
              "        google.colab.kernel.accessAllowed ? 'block' : 'none';\n",
              "\n",
              "      async function convertToInteractive(key) {\n",
              "        const element = document.querySelector('#df-a285e6b5-eba5-41ef-a70b-644b06df4227');\n",
              "        const dataTable =\n",
              "          await google.colab.kernel.invokeFunction('convertToInteractive',\n",
              "                                                    [key], {});\n",
              "        if (!dataTable) return;\n",
              "\n",
              "        const docLinkHtml = 'Like what you see? Visit the ' +\n",
              "          '<a target=\"_blank\" href=https://colab.research.google.com/notebooks/data_table.ipynb>data table notebook</a>'\n",
              "          + ' to learn more about interactive tables.';\n",
              "        element.innerHTML = '';\n",
              "        dataTable['output_type'] = 'display_data';\n",
              "        await google.colab.output.renderOutput(dataTable, element);\n",
              "        const docLink = document.createElement('div');\n",
              "        docLink.innerHTML = docLinkHtml;\n",
              "        element.appendChild(docLink);\n",
              "      }\n",
              "    </script>\n",
              "  </div>\n",
              "\n",
              "\n",
              "<div id=\"df-1ba7d8a5-da9c-445b-bbc9-5343bdcd41e0\">\n",
              "  <button class=\"colab-df-quickchart\" onclick=\"quickchart('df-1ba7d8a5-da9c-445b-bbc9-5343bdcd41e0')\"\n",
              "            title=\"Suggest charts\"\n",
              "            style=\"display:none;\">\n",
              "\n",
              "<svg xmlns=\"http://www.w3.org/2000/svg\" height=\"24px\"viewBox=\"0 0 24 24\"\n",
              "     width=\"24px\">\n",
              "    <g>\n",
              "        <path d=\"M19 3H5c-1.1 0-2 .9-2 2v14c0 1.1.9 2 2 2h14c1.1 0 2-.9 2-2V5c0-1.1-.9-2-2-2zM9 17H7v-7h2v7zm4 0h-2V7h2v10zm4 0h-2v-4h2v4z\"/>\n",
              "    </g>\n",
              "</svg>\n",
              "  </button>\n",
              "\n",
              "<style>\n",
              "  .colab-df-quickchart {\n",
              "      --bg-color: #E8F0FE;\n",
              "      --fill-color: #1967D2;\n",
              "      --hover-bg-color: #E2EBFA;\n",
              "      --hover-fill-color: #174EA6;\n",
              "      --disabled-fill-color: #AAA;\n",
              "      --disabled-bg-color: #DDD;\n",
              "  }\n",
              "\n",
              "  [theme=dark] .colab-df-quickchart {\n",
              "      --bg-color: #3B4455;\n",
              "      --fill-color: #D2E3FC;\n",
              "      --hover-bg-color: #434B5C;\n",
              "      --hover-fill-color: #FFFFFF;\n",
              "      --disabled-bg-color: #3B4455;\n",
              "      --disabled-fill-color: #666;\n",
              "  }\n",
              "\n",
              "  .colab-df-quickchart {\n",
              "    background-color: var(--bg-color);\n",
              "    border: none;\n",
              "    border-radius: 50%;\n",
              "    cursor: pointer;\n",
              "    display: none;\n",
              "    fill: var(--fill-color);\n",
              "    height: 32px;\n",
              "    padding: 0;\n",
              "    width: 32px;\n",
              "  }\n",
              "\n",
              "  .colab-df-quickchart:hover {\n",
              "    background-color: var(--hover-bg-color);\n",
              "    box-shadow: 0 1px 2px rgba(60, 64, 67, 0.3), 0 1px 3px 1px rgba(60, 64, 67, 0.15);\n",
              "    fill: var(--button-hover-fill-color);\n",
              "  }\n",
              "\n",
              "  .colab-df-quickchart-complete:disabled,\n",
              "  .colab-df-quickchart-complete:disabled:hover {\n",
              "    background-color: var(--disabled-bg-color);\n",
              "    fill: var(--disabled-fill-color);\n",
              "    box-shadow: none;\n",
              "  }\n",
              "\n",
              "  .colab-df-spinner {\n",
              "    border: 2px solid var(--fill-color);\n",
              "    border-color: transparent;\n",
              "    border-bottom-color: var(--fill-color);\n",
              "    animation:\n",
              "      spin 1s steps(1) infinite;\n",
              "  }\n",
              "\n",
              "  @keyframes spin {\n",
              "    0% {\n",
              "      border-color: transparent;\n",
              "      border-bottom-color: var(--fill-color);\n",
              "      border-left-color: var(--fill-color);\n",
              "    }\n",
              "    20% {\n",
              "      border-color: transparent;\n",
              "      border-left-color: var(--fill-color);\n",
              "      border-top-color: var(--fill-color);\n",
              "    }\n",
              "    30% {\n",
              "      border-color: transparent;\n",
              "      border-left-color: var(--fill-color);\n",
              "      border-top-color: var(--fill-color);\n",
              "      border-right-color: var(--fill-color);\n",
              "    }\n",
              "    40% {\n",
              "      border-color: transparent;\n",
              "      border-right-color: var(--fill-color);\n",
              "      border-top-color: var(--fill-color);\n",
              "    }\n",
              "    60% {\n",
              "      border-color: transparent;\n",
              "      border-right-color: var(--fill-color);\n",
              "    }\n",
              "    80% {\n",
              "      border-color: transparent;\n",
              "      border-right-color: var(--fill-color);\n",
              "      border-bottom-color: var(--fill-color);\n",
              "    }\n",
              "    90% {\n",
              "      border-color: transparent;\n",
              "      border-bottom-color: var(--fill-color);\n",
              "    }\n",
              "  }\n",
              "</style>\n",
              "\n",
              "  <script>\n",
              "    async function quickchart(key) {\n",
              "      const quickchartButtonEl =\n",
              "        document.querySelector('#' + key + ' button');\n",
              "      quickchartButtonEl.disabled = true;  // To prevent multiple clicks.\n",
              "      quickchartButtonEl.classList.add('colab-df-spinner');\n",
              "      try {\n",
              "        const charts = await google.colab.kernel.invokeFunction(\n",
              "            'suggestCharts', [key], {});\n",
              "      } catch (error) {\n",
              "        console.error('Error during call to suggestCharts:', error);\n",
              "      }\n",
              "      quickchartButtonEl.classList.remove('colab-df-spinner');\n",
              "      quickchartButtonEl.classList.add('colab-df-quickchart-complete');\n",
              "    }\n",
              "    (() => {\n",
              "      let quickchartButtonEl =\n",
              "        document.querySelector('#df-1ba7d8a5-da9c-445b-bbc9-5343bdcd41e0 button');\n",
              "      quickchartButtonEl.style.display =\n",
              "        google.colab.kernel.accessAllowed ? 'block' : 'none';\n",
              "    })();\n",
              "  </script>\n",
              "</div>\n",
              "\n",
              "    </div>\n",
              "  </div>\n"
            ],
            "application/vnd.google.colaboratory.intrinsic+json": {
              "type": "dataframe",
              "variable_name": "df_fraud"
            }
          },
          "metadata": {},
          "execution_count": 7
        }
      ]
    },
    {
      "cell_type": "markdown",
      "source": [
        "### Dataset Rows & Columns count"
      ],
      "metadata": {
        "id": "7hBIi_osiCS2"
      }
    },
    {
      "cell_type": "code",
      "source": [
        "# Dataset Rows & Columns count\n",
        "df_fraud.shape"
      ],
      "metadata": {
        "id": "Kllu7SJgmLij",
        "colab": {
          "base_uri": "https://localhost:8080/"
        },
        "outputId": "87c0f019-7d57-43ec-d7fd-f845b646841b"
      },
      "execution_count": null,
      "outputs": [
        {
          "output_type": "execute_result",
          "data": {
            "text/plain": [
              "(6362620, 11)"
            ]
          },
          "metadata": {},
          "execution_count": 8
        }
      ]
    },
    {
      "cell_type": "markdown",
      "source": [
        "### Dataset Information"
      ],
      "metadata": {
        "id": "JlHwYmJAmNHm"
      }
    },
    {
      "cell_type": "code",
      "source": [
        "# Dataset Info\n",
        "df_fraud.info()"
      ],
      "metadata": {
        "id": "e9hRXRi6meOf",
        "colab": {
          "base_uri": "https://localhost:8080/"
        },
        "outputId": "604bc8fb-2b3b-4980-f244-20ae4d24da96"
      },
      "execution_count": null,
      "outputs": [
        {
          "output_type": "stream",
          "name": "stdout",
          "text": [
            "<class 'pandas.core.frame.DataFrame'>\n",
            "RangeIndex: 6362620 entries, 0 to 6362619\n",
            "Data columns (total 11 columns):\n",
            " #   Column          Dtype  \n",
            "---  ------          -----  \n",
            " 0   step            int64  \n",
            " 1   type            object \n",
            " 2   amount          float64\n",
            " 3   nameOrig        object \n",
            " 4   oldbalanceOrg   float64\n",
            " 5   newbalanceOrig  float64\n",
            " 6   nameDest        object \n",
            " 7   oldbalanceDest  float64\n",
            " 8   newbalanceDest  float64\n",
            " 9   isFraud         int64  \n",
            " 10  isFlaggedFraud  int64  \n",
            "dtypes: float64(5), int64(3), object(3)\n",
            "memory usage: 534.0+ MB\n"
          ]
        }
      ]
    },
    {
      "cell_type": "markdown",
      "source": [
        "#### Duplicate Values"
      ],
      "metadata": {
        "id": "35m5QtbWiB9F"
      }
    },
    {
      "cell_type": "code",
      "source": [
        "# Dataset Duplicate Value Count\n",
        "df_fraud.duplicated().sum()"
      ],
      "metadata": {
        "id": "1sLdpKYkmox0",
        "colab": {
          "base_uri": "https://localhost:8080/"
        },
        "outputId": "e1aa7f7e-931c-4d43-acfa-19793a71558d"
      },
      "execution_count": null,
      "outputs": [
        {
          "output_type": "execute_result",
          "data": {
            "text/plain": [
              "0"
            ]
          },
          "metadata": {},
          "execution_count": 11
        }
      ]
    },
    {
      "cell_type": "markdown",
      "source": [
        "#### Missing Values/Null Values"
      ],
      "metadata": {
        "id": "PoPl-ycgm1ru"
      }
    },
    {
      "cell_type": "code",
      "source": [
        "# Missing Values/Null Values Count\n",
        "df_fraud.isnull().sum().sort_values(ascending=False)"
      ],
      "metadata": {
        "id": "GgHWkxvamxVg",
        "colab": {
          "base_uri": "https://localhost:8080/"
        },
        "outputId": "75419b2e-48ed-4085-d771-e9a6019d8af6"
      },
      "execution_count": null,
      "outputs": [
        {
          "output_type": "execute_result",
          "data": {
            "text/plain": [
              "step              0\n",
              "type              0\n",
              "amount            0\n",
              "nameOrig          0\n",
              "oldbalanceOrg     0\n",
              "newbalanceOrig    0\n",
              "nameDest          0\n",
              "oldbalanceDest    0\n",
              "newbalanceDest    0\n",
              "isFraud           0\n",
              "isFlaggedFraud    0\n",
              "dtype: int64"
            ]
          },
          "metadata": {},
          "execution_count": 12
        }
      ]
    },
    {
      "cell_type": "markdown",
      "source": [
        "### What did you know about your dataset?"
      ],
      "metadata": {
        "id": "H0kj-8xxnORC"
      }
    },
    {
      "cell_type": "markdown",
      "source": [
        "*Here in out dataset there are total of 11 columns out of which zero duplicates and zero missing values which is cleaned data*"
      ],
      "metadata": {
        "id": "gfoNAAC-nUe_"
      }
    },
    {
      "cell_type": "markdown",
      "source": [
        "## ***2. Understanding Your Variables***"
      ],
      "metadata": {
        "id": "nA9Y7ga8ng1Z"
      }
    },
    {
      "cell_type": "code",
      "source": [
        "# Dataset Columns\n",
        "df_fraud.columns"
      ],
      "metadata": {
        "id": "j7xfkqrt5Ag5",
        "colab": {
          "base_uri": "https://localhost:8080/"
        },
        "outputId": "cbbb367a-728c-47be-c20e-9fdc2380c1bb"
      },
      "execution_count": null,
      "outputs": [
        {
          "output_type": "execute_result",
          "data": {
            "text/plain": [
              "Index(['step', 'type', 'amount', 'nameOrig', 'oldbalanceOrg', 'newbalanceOrig',\n",
              "       'nameDest', 'oldbalanceDest', 'newbalanceDest', 'isFraud',\n",
              "       'isFlaggedFraud'],\n",
              "      dtype='object')"
            ]
          },
          "metadata": {},
          "execution_count": 13
        }
      ]
    },
    {
      "cell_type": "code",
      "source": [
        "# Dataset Describe\n",
        "df_fraud.describe().T.round(2)"
      ],
      "metadata": {
        "id": "DnOaZdaE5Q5t",
        "colab": {
          "base_uri": "https://localhost:8080/",
          "height": 300
        },
        "outputId": "2ff02b04-12c7-45fc-90d1-0c90a1f371df"
      },
      "execution_count": null,
      "outputs": [
        {
          "output_type": "execute_result",
          "data": {
            "text/plain": [
              "                    count        mean         std  min       25%        50%  \\\n",
              "step            6362620.0      243.40      142.33  1.0    156.00     239.00   \n",
              "amount          6362620.0   179861.90   603858.23  0.0  13389.57   74871.94   \n",
              "oldbalanceOrg   6362620.0   833883.10  2888242.67  0.0      0.00   14208.00   \n",
              "newbalanceOrig  6362620.0   855113.67  2924048.50  0.0      0.00       0.00   \n",
              "oldbalanceDest  6362620.0  1100701.67  3399180.11  0.0      0.00  132705.66   \n",
              "newbalanceDest  6362620.0  1224996.40  3674128.94  0.0      0.00  214661.44   \n",
              "isFraud         6362620.0        0.00        0.04  0.0      0.00       0.00   \n",
              "isFlaggedFraud  6362620.0        0.00        0.00  0.0      0.00       0.00   \n",
              "\n",
              "                       75%           max  \n",
              "step                335.00  7.430000e+02  \n",
              "amount           208721.48  9.244552e+07  \n",
              "oldbalanceOrg    107315.18  5.958504e+07  \n",
              "newbalanceOrig   144258.41  4.958504e+07  \n",
              "oldbalanceDest   943036.71  3.560159e+08  \n",
              "newbalanceDest  1111909.25  3.561793e+08  \n",
              "isFraud               0.00  1.000000e+00  \n",
              "isFlaggedFraud        0.00  1.000000e+00  "
            ],
            "text/html": [
              "\n",
              "  <div id=\"df-4f6d9988-6131-4787-a17d-96fe346c4eb0\" class=\"colab-df-container\">\n",
              "    <div>\n",
              "<style scoped>\n",
              "    .dataframe tbody tr th:only-of-type {\n",
              "        vertical-align: middle;\n",
              "    }\n",
              "\n",
              "    .dataframe tbody tr th {\n",
              "        vertical-align: top;\n",
              "    }\n",
              "\n",
              "    .dataframe thead th {\n",
              "        text-align: right;\n",
              "    }\n",
              "</style>\n",
              "<table border=\"1\" class=\"dataframe\">\n",
              "  <thead>\n",
              "    <tr style=\"text-align: right;\">\n",
              "      <th></th>\n",
              "      <th>count</th>\n",
              "      <th>mean</th>\n",
              "      <th>std</th>\n",
              "      <th>min</th>\n",
              "      <th>25%</th>\n",
              "      <th>50%</th>\n",
              "      <th>75%</th>\n",
              "      <th>max</th>\n",
              "    </tr>\n",
              "  </thead>\n",
              "  <tbody>\n",
              "    <tr>\n",
              "      <th>step</th>\n",
              "      <td>6362620.0</td>\n",
              "      <td>243.40</td>\n",
              "      <td>142.33</td>\n",
              "      <td>1.0</td>\n",
              "      <td>156.00</td>\n",
              "      <td>239.00</td>\n",
              "      <td>335.00</td>\n",
              "      <td>7.430000e+02</td>\n",
              "    </tr>\n",
              "    <tr>\n",
              "      <th>amount</th>\n",
              "      <td>6362620.0</td>\n",
              "      <td>179861.90</td>\n",
              "      <td>603858.23</td>\n",
              "      <td>0.0</td>\n",
              "      <td>13389.57</td>\n",
              "      <td>74871.94</td>\n",
              "      <td>208721.48</td>\n",
              "      <td>9.244552e+07</td>\n",
              "    </tr>\n",
              "    <tr>\n",
              "      <th>oldbalanceOrg</th>\n",
              "      <td>6362620.0</td>\n",
              "      <td>833883.10</td>\n",
              "      <td>2888242.67</td>\n",
              "      <td>0.0</td>\n",
              "      <td>0.00</td>\n",
              "      <td>14208.00</td>\n",
              "      <td>107315.18</td>\n",
              "      <td>5.958504e+07</td>\n",
              "    </tr>\n",
              "    <tr>\n",
              "      <th>newbalanceOrig</th>\n",
              "      <td>6362620.0</td>\n",
              "      <td>855113.67</td>\n",
              "      <td>2924048.50</td>\n",
              "      <td>0.0</td>\n",
              "      <td>0.00</td>\n",
              "      <td>0.00</td>\n",
              "      <td>144258.41</td>\n",
              "      <td>4.958504e+07</td>\n",
              "    </tr>\n",
              "    <tr>\n",
              "      <th>oldbalanceDest</th>\n",
              "      <td>6362620.0</td>\n",
              "      <td>1100701.67</td>\n",
              "      <td>3399180.11</td>\n",
              "      <td>0.0</td>\n",
              "      <td>0.00</td>\n",
              "      <td>132705.66</td>\n",
              "      <td>943036.71</td>\n",
              "      <td>3.560159e+08</td>\n",
              "    </tr>\n",
              "    <tr>\n",
              "      <th>newbalanceDest</th>\n",
              "      <td>6362620.0</td>\n",
              "      <td>1224996.40</td>\n",
              "      <td>3674128.94</td>\n",
              "      <td>0.0</td>\n",
              "      <td>0.00</td>\n",
              "      <td>214661.44</td>\n",
              "      <td>1111909.25</td>\n",
              "      <td>3.561793e+08</td>\n",
              "    </tr>\n",
              "    <tr>\n",
              "      <th>isFraud</th>\n",
              "      <td>6362620.0</td>\n",
              "      <td>0.00</td>\n",
              "      <td>0.04</td>\n",
              "      <td>0.0</td>\n",
              "      <td>0.00</td>\n",
              "      <td>0.00</td>\n",
              "      <td>0.00</td>\n",
              "      <td>1.000000e+00</td>\n",
              "    </tr>\n",
              "    <tr>\n",
              "      <th>isFlaggedFraud</th>\n",
              "      <td>6362620.0</td>\n",
              "      <td>0.00</td>\n",
              "      <td>0.00</td>\n",
              "      <td>0.0</td>\n",
              "      <td>0.00</td>\n",
              "      <td>0.00</td>\n",
              "      <td>0.00</td>\n",
              "      <td>1.000000e+00</td>\n",
              "    </tr>\n",
              "  </tbody>\n",
              "</table>\n",
              "</div>\n",
              "    <div class=\"colab-df-buttons\">\n",
              "\n",
              "  <div class=\"colab-df-container\">\n",
              "    <button class=\"colab-df-convert\" onclick=\"convertToInteractive('df-4f6d9988-6131-4787-a17d-96fe346c4eb0')\"\n",
              "            title=\"Convert this dataframe to an interactive table.\"\n",
              "            style=\"display:none;\">\n",
              "\n",
              "  <svg xmlns=\"http://www.w3.org/2000/svg\" height=\"24px\" viewBox=\"0 -960 960 960\">\n",
              "    <path d=\"M120-120v-720h720v720H120Zm60-500h600v-160H180v160Zm220 220h160v-160H400v160Zm0 220h160v-160H400v160ZM180-400h160v-160H180v160Zm440 0h160v-160H620v160ZM180-180h160v-160H180v160Zm440 0h160v-160H620v160Z\"/>\n",
              "  </svg>\n",
              "    </button>\n",
              "\n",
              "  <style>\n",
              "    .colab-df-container {\n",
              "      display:flex;\n",
              "      gap: 12px;\n",
              "    }\n",
              "\n",
              "    .colab-df-convert {\n",
              "      background-color: #E8F0FE;\n",
              "      border: none;\n",
              "      border-radius: 50%;\n",
              "      cursor: pointer;\n",
              "      display: none;\n",
              "      fill: #1967D2;\n",
              "      height: 32px;\n",
              "      padding: 0 0 0 0;\n",
              "      width: 32px;\n",
              "    }\n",
              "\n",
              "    .colab-df-convert:hover {\n",
              "      background-color: #E2EBFA;\n",
              "      box-shadow: 0px 1px 2px rgba(60, 64, 67, 0.3), 0px 1px 3px 1px rgba(60, 64, 67, 0.15);\n",
              "      fill: #174EA6;\n",
              "    }\n",
              "\n",
              "    .colab-df-buttons div {\n",
              "      margin-bottom: 4px;\n",
              "    }\n",
              "\n",
              "    [theme=dark] .colab-df-convert {\n",
              "      background-color: #3B4455;\n",
              "      fill: #D2E3FC;\n",
              "    }\n",
              "\n",
              "    [theme=dark] .colab-df-convert:hover {\n",
              "      background-color: #434B5C;\n",
              "      box-shadow: 0px 1px 3px 1px rgba(0, 0, 0, 0.15);\n",
              "      filter: drop-shadow(0px 1px 2px rgba(0, 0, 0, 0.3));\n",
              "      fill: #FFFFFF;\n",
              "    }\n",
              "  </style>\n",
              "\n",
              "    <script>\n",
              "      const buttonEl =\n",
              "        document.querySelector('#df-4f6d9988-6131-4787-a17d-96fe346c4eb0 button.colab-df-convert');\n",
              "      buttonEl.style.display =\n",
              "        google.colab.kernel.accessAllowed ? 'block' : 'none';\n",
              "\n",
              "      async function convertToInteractive(key) {\n",
              "        const element = document.querySelector('#df-4f6d9988-6131-4787-a17d-96fe346c4eb0');\n",
              "        const dataTable =\n",
              "          await google.colab.kernel.invokeFunction('convertToInteractive',\n",
              "                                                    [key], {});\n",
              "        if (!dataTable) return;\n",
              "\n",
              "        const docLinkHtml = 'Like what you see? Visit the ' +\n",
              "          '<a target=\"_blank\" href=https://colab.research.google.com/notebooks/data_table.ipynb>data table notebook</a>'\n",
              "          + ' to learn more about interactive tables.';\n",
              "        element.innerHTML = '';\n",
              "        dataTable['output_type'] = 'display_data';\n",
              "        await google.colab.output.renderOutput(dataTable, element);\n",
              "        const docLink = document.createElement('div');\n",
              "        docLink.innerHTML = docLinkHtml;\n",
              "        element.appendChild(docLink);\n",
              "      }\n",
              "    </script>\n",
              "  </div>\n",
              "\n",
              "\n",
              "<div id=\"df-0f6af0ef-bb4a-4a4a-8e30-0d8de96b3517\">\n",
              "  <button class=\"colab-df-quickchart\" onclick=\"quickchart('df-0f6af0ef-bb4a-4a4a-8e30-0d8de96b3517')\"\n",
              "            title=\"Suggest charts\"\n",
              "            style=\"display:none;\">\n",
              "\n",
              "<svg xmlns=\"http://www.w3.org/2000/svg\" height=\"24px\"viewBox=\"0 0 24 24\"\n",
              "     width=\"24px\">\n",
              "    <g>\n",
              "        <path d=\"M19 3H5c-1.1 0-2 .9-2 2v14c0 1.1.9 2 2 2h14c1.1 0 2-.9 2-2V5c0-1.1-.9-2-2-2zM9 17H7v-7h2v7zm4 0h-2V7h2v10zm4 0h-2v-4h2v4z\"/>\n",
              "    </g>\n",
              "</svg>\n",
              "  </button>\n",
              "\n",
              "<style>\n",
              "  .colab-df-quickchart {\n",
              "      --bg-color: #E8F0FE;\n",
              "      --fill-color: #1967D2;\n",
              "      --hover-bg-color: #E2EBFA;\n",
              "      --hover-fill-color: #174EA6;\n",
              "      --disabled-fill-color: #AAA;\n",
              "      --disabled-bg-color: #DDD;\n",
              "  }\n",
              "\n",
              "  [theme=dark] .colab-df-quickchart {\n",
              "      --bg-color: #3B4455;\n",
              "      --fill-color: #D2E3FC;\n",
              "      --hover-bg-color: #434B5C;\n",
              "      --hover-fill-color: #FFFFFF;\n",
              "      --disabled-bg-color: #3B4455;\n",
              "      --disabled-fill-color: #666;\n",
              "  }\n",
              "\n",
              "  .colab-df-quickchart {\n",
              "    background-color: var(--bg-color);\n",
              "    border: none;\n",
              "    border-radius: 50%;\n",
              "    cursor: pointer;\n",
              "    display: none;\n",
              "    fill: var(--fill-color);\n",
              "    height: 32px;\n",
              "    padding: 0;\n",
              "    width: 32px;\n",
              "  }\n",
              "\n",
              "  .colab-df-quickchart:hover {\n",
              "    background-color: var(--hover-bg-color);\n",
              "    box-shadow: 0 1px 2px rgba(60, 64, 67, 0.3), 0 1px 3px 1px rgba(60, 64, 67, 0.15);\n",
              "    fill: var(--button-hover-fill-color);\n",
              "  }\n",
              "\n",
              "  .colab-df-quickchart-complete:disabled,\n",
              "  .colab-df-quickchart-complete:disabled:hover {\n",
              "    background-color: var(--disabled-bg-color);\n",
              "    fill: var(--disabled-fill-color);\n",
              "    box-shadow: none;\n",
              "  }\n",
              "\n",
              "  .colab-df-spinner {\n",
              "    border: 2px solid var(--fill-color);\n",
              "    border-color: transparent;\n",
              "    border-bottom-color: var(--fill-color);\n",
              "    animation:\n",
              "      spin 1s steps(1) infinite;\n",
              "  }\n",
              "\n",
              "  @keyframes spin {\n",
              "    0% {\n",
              "      border-color: transparent;\n",
              "      border-bottom-color: var(--fill-color);\n",
              "      border-left-color: var(--fill-color);\n",
              "    }\n",
              "    20% {\n",
              "      border-color: transparent;\n",
              "      border-left-color: var(--fill-color);\n",
              "      border-top-color: var(--fill-color);\n",
              "    }\n",
              "    30% {\n",
              "      border-color: transparent;\n",
              "      border-left-color: var(--fill-color);\n",
              "      border-top-color: var(--fill-color);\n",
              "      border-right-color: var(--fill-color);\n",
              "    }\n",
              "    40% {\n",
              "      border-color: transparent;\n",
              "      border-right-color: var(--fill-color);\n",
              "      border-top-color: var(--fill-color);\n",
              "    }\n",
              "    60% {\n",
              "      border-color: transparent;\n",
              "      border-right-color: var(--fill-color);\n",
              "    }\n",
              "    80% {\n",
              "      border-color: transparent;\n",
              "      border-right-color: var(--fill-color);\n",
              "      border-bottom-color: var(--fill-color);\n",
              "    }\n",
              "    90% {\n",
              "      border-color: transparent;\n",
              "      border-bottom-color: var(--fill-color);\n",
              "    }\n",
              "  }\n",
              "</style>\n",
              "\n",
              "  <script>\n",
              "    async function quickchart(key) {\n",
              "      const quickchartButtonEl =\n",
              "        document.querySelector('#' + key + ' button');\n",
              "      quickchartButtonEl.disabled = true;  // To prevent multiple clicks.\n",
              "      quickchartButtonEl.classList.add('colab-df-spinner');\n",
              "      try {\n",
              "        const charts = await google.colab.kernel.invokeFunction(\n",
              "            'suggestCharts', [key], {});\n",
              "      } catch (error) {\n",
              "        console.error('Error during call to suggestCharts:', error);\n",
              "      }\n",
              "      quickchartButtonEl.classList.remove('colab-df-spinner');\n",
              "      quickchartButtonEl.classList.add('colab-df-quickchart-complete');\n",
              "    }\n",
              "    (() => {\n",
              "      let quickchartButtonEl =\n",
              "        document.querySelector('#df-0f6af0ef-bb4a-4a4a-8e30-0d8de96b3517 button');\n",
              "      quickchartButtonEl.style.display =\n",
              "        google.colab.kernel.accessAllowed ? 'block' : 'none';\n",
              "    })();\n",
              "  </script>\n",
              "</div>\n",
              "\n",
              "    </div>\n",
              "  </div>\n"
            ],
            "application/vnd.google.colaboratory.intrinsic+json": {
              "type": "dataframe",
              "summary": "{\n  \"name\": \"df_fraud\",\n  \"rows\": 8,\n  \"fields\": [\n    {\n      \"column\": \"count\",\n      \"properties\": {\n        \"dtype\": \"number\",\n        \"std\": 0.0,\n        \"min\": 6362620.0,\n        \"max\": 6362620.0,\n        \"num_unique_values\": 1,\n        \"samples\": [\n          6362620.0\n        ],\n        \"semantic_type\": \"\",\n        \"description\": \"\"\n      }\n    },\n    {\n      \"column\": \"mean\",\n      \"properties\": {\n        \"dtype\": \"number\",\n        \"std\": 530706.7518127387,\n        \"min\": 0.0,\n        \"max\": 1224996.4,\n        \"num_unique_values\": 7,\n        \"samples\": [\n          243.4\n        ],\n        \"semantic_type\": \"\",\n        \"description\": \"\"\n      }\n    },\n    {\n      \"column\": \"std\",\n      \"properties\": {\n        \"dtype\": \"number\",\n        \"std\": 1671788.2955495205,\n        \"min\": 0.0,\n        \"max\": 3674128.94,\n        \"num_unique_values\": 8,\n        \"samples\": [\n          603858.23\n        ],\n        \"semantic_type\": \"\",\n        \"description\": \"\"\n      }\n    },\n    {\n      \"column\": \"min\",\n      \"properties\": {\n        \"dtype\": \"number\",\n        \"std\": 0.3535533905932738,\n        \"min\": 0.0,\n        \"max\": 1.0,\n        \"num_unique_values\": 2,\n        \"samples\": [\n          0.0\n        ],\n        \"semantic_type\": \"\",\n        \"description\": \"\"\n      }\n    },\n    {\n      \"column\": \"25%\",\n      \"properties\": {\n        \"dtype\": \"number\",\n        \"std\": 4726.36393702975,\n        \"min\": 0.0,\n        \"max\": 13389.57,\n        \"num_unique_values\": 3,\n        \"samples\": [\n          156.0\n        ],\n        \"semantic_type\": \"\",\n        \"description\": \"\"\n      }\n    },\n    {\n      \"column\": \"50%\",\n      \"properties\": {\n        \"dtype\": \"number\",\n        \"std\": 80765.28657775884,\n        \"min\": 0.0,\n        \"max\": 214661.44,\n        \"num_unique_values\": 6,\n        \"samples\": [\n          239.0\n        ],\n        \"semantic_type\": \"\",\n        \"description\": \"\"\n      }\n    },\n    {\n      \"column\": \"75%\",\n      \"properties\": {\n        \"dtype\": \"number\",\n        \"std\": 448893.3816233805,\n        \"min\": 0.0,\n        \"max\": 1111909.25,\n        \"num_unique_values\": 7,\n        \"samples\": [\n          335.0\n        ],\n        \"semantic_type\": \"\",\n        \"description\": \"\"\n      }\n    },\n    {\n      \"column\": \"max\",\n      \"properties\": {\n        \"dtype\": \"number\",\n        \"std\": 152963480.4169497,\n        \"min\": 1.0,\n        \"max\": 356179278.92,\n        \"num_unique_values\": 7,\n        \"samples\": [\n          743.0\n        ],\n        \"semantic_type\": \"\",\n        \"description\": \"\"\n      }\n    }\n  ]\n}"
            }
          },
          "metadata": {},
          "execution_count": 18
        }
      ]
    },
    {
      "cell_type": "markdown",
      "source": [
        "### Variables Description"
      ],
      "metadata": {
        "id": "PBTbrJXOngz2"
      }
    },
    {
      "cell_type": "markdown",
      "source": [
        "*  *step: represents a unit of time where 1 step equals 1 hour*\n",
        "*  *type: type of online transaction*\n",
        "*  *amount: the amount of the transaction*\n",
        "*  *nameOrig: customer starting the transaction*\n",
        "*  *oldbalanceOrg: balance before the transaction*\n",
        "*  *newbalanceOrig: balance after the transaction*\n",
        "*  *nameDest: recipient of the transaction*\n",
        "*  *oldbalanceDest: initial balance of recipient before the transaction*\n",
        "*  *newbalanceDest: the new balance of recipient after the transaction*\n",
        "*  *isFraud: fraud transaction*\n",
        "*  *isFlaggedFraud: a suspicion of fraudulent activity is thrown up by the presence of one or more Early Warning Signals*"
      ],
      "metadata": {
        "id": "aJV4KIxSnxay"
      }
    },
    {
      "cell_type": "markdown",
      "source": [
        "### Check Unique Values for each variable."
      ],
      "metadata": {
        "id": "u3PMJOP6ngxN"
      }
    },
    {
      "cell_type": "code",
      "source": [
        "# Check Unique Values for each variable.\n",
        "df_fraud.nunique()"
      ],
      "metadata": {
        "id": "zms12Yq5n-jE",
        "colab": {
          "base_uri": "https://localhost:8080/"
        },
        "outputId": "4c040dc4-8540-47d3-943c-67163e6fd08f"
      },
      "execution_count": null,
      "outputs": [
        {
          "output_type": "execute_result",
          "data": {
            "text/plain": [
              "step                  743\n",
              "type                    5\n",
              "amount            5316900\n",
              "nameOrig          6353307\n",
              "oldbalanceOrg     1845844\n",
              "newbalanceOrig    2682586\n",
              "nameDest          2722362\n",
              "oldbalanceDest    3614697\n",
              "newbalanceDest    3555499\n",
              "isFraud                 2\n",
              "isFlaggedFraud          2\n",
              "dtype: int64"
            ]
          },
          "metadata": {},
          "execution_count": 20
        }
      ]
    },
    {
      "cell_type": "markdown",
      "source": [
        "## 3. ***Data Wrangling***"
      ],
      "metadata": {
        "id": "dauF4eBmngu3"
      }
    },
    {
      "cell_type": "markdown",
      "source": [
        "### Data Wrangling Code"
      ],
      "metadata": {
        "id": "bKJF3rekwFvQ"
      }
    },
    {
      "cell_type": "code",
      "source": [
        "# Write your code to make your dataset analysis ready.\n",
        "df_fraud.describe(include='object').T"
      ],
      "metadata": {
        "colab": {
          "base_uri": "https://localhost:8080/",
          "height": 143
        },
        "id": "6W9_zL83vnXM",
        "outputId": "2480a7b2-1a37-400e-fe6d-4e09ec652d13"
      },
      "execution_count": null,
      "outputs": [
        {
          "output_type": "execute_result",
          "data": {
            "text/plain": [
              "            count   unique          top     freq\n",
              "type      6362620        5     CASH_OUT  2237500\n",
              "nameOrig  6362620  6353307  C1902386530        3\n",
              "nameDest  6362620  2722362  C1286084959      113"
            ],
            "text/html": [
              "\n",
              "  <div id=\"df-920342cd-0ad9-475e-8898-9b35a1c6dd54\" class=\"colab-df-container\">\n",
              "    <div>\n",
              "<style scoped>\n",
              "    .dataframe tbody tr th:only-of-type {\n",
              "        vertical-align: middle;\n",
              "    }\n",
              "\n",
              "    .dataframe tbody tr th {\n",
              "        vertical-align: top;\n",
              "    }\n",
              "\n",
              "    .dataframe thead th {\n",
              "        text-align: right;\n",
              "    }\n",
              "</style>\n",
              "<table border=\"1\" class=\"dataframe\">\n",
              "  <thead>\n",
              "    <tr style=\"text-align: right;\">\n",
              "      <th></th>\n",
              "      <th>count</th>\n",
              "      <th>unique</th>\n",
              "      <th>top</th>\n",
              "      <th>freq</th>\n",
              "    </tr>\n",
              "  </thead>\n",
              "  <tbody>\n",
              "    <tr>\n",
              "      <th>type</th>\n",
              "      <td>6362620</td>\n",
              "      <td>5</td>\n",
              "      <td>CASH_OUT</td>\n",
              "      <td>2237500</td>\n",
              "    </tr>\n",
              "    <tr>\n",
              "      <th>nameOrig</th>\n",
              "      <td>6362620</td>\n",
              "      <td>6353307</td>\n",
              "      <td>C1902386530</td>\n",
              "      <td>3</td>\n",
              "    </tr>\n",
              "    <tr>\n",
              "      <th>nameDest</th>\n",
              "      <td>6362620</td>\n",
              "      <td>2722362</td>\n",
              "      <td>C1286084959</td>\n",
              "      <td>113</td>\n",
              "    </tr>\n",
              "  </tbody>\n",
              "</table>\n",
              "</div>\n",
              "    <div class=\"colab-df-buttons\">\n",
              "\n",
              "  <div class=\"colab-df-container\">\n",
              "    <button class=\"colab-df-convert\" onclick=\"convertToInteractive('df-920342cd-0ad9-475e-8898-9b35a1c6dd54')\"\n",
              "            title=\"Convert this dataframe to an interactive table.\"\n",
              "            style=\"display:none;\">\n",
              "\n",
              "  <svg xmlns=\"http://www.w3.org/2000/svg\" height=\"24px\" viewBox=\"0 -960 960 960\">\n",
              "    <path d=\"M120-120v-720h720v720H120Zm60-500h600v-160H180v160Zm220 220h160v-160H400v160Zm0 220h160v-160H400v160ZM180-400h160v-160H180v160Zm440 0h160v-160H620v160ZM180-180h160v-160H180v160Zm440 0h160v-160H620v160Z\"/>\n",
              "  </svg>\n",
              "    </button>\n",
              "\n",
              "  <style>\n",
              "    .colab-df-container {\n",
              "      display:flex;\n",
              "      gap: 12px;\n",
              "    }\n",
              "\n",
              "    .colab-df-convert {\n",
              "      background-color: #E8F0FE;\n",
              "      border: none;\n",
              "      border-radius: 50%;\n",
              "      cursor: pointer;\n",
              "      display: none;\n",
              "      fill: #1967D2;\n",
              "      height: 32px;\n",
              "      padding: 0 0 0 0;\n",
              "      width: 32px;\n",
              "    }\n",
              "\n",
              "    .colab-df-convert:hover {\n",
              "      background-color: #E2EBFA;\n",
              "      box-shadow: 0px 1px 2px rgba(60, 64, 67, 0.3), 0px 1px 3px 1px rgba(60, 64, 67, 0.15);\n",
              "      fill: #174EA6;\n",
              "    }\n",
              "\n",
              "    .colab-df-buttons div {\n",
              "      margin-bottom: 4px;\n",
              "    }\n",
              "\n",
              "    [theme=dark] .colab-df-convert {\n",
              "      background-color: #3B4455;\n",
              "      fill: #D2E3FC;\n",
              "    }\n",
              "\n",
              "    [theme=dark] .colab-df-convert:hover {\n",
              "      background-color: #434B5C;\n",
              "      box-shadow: 0px 1px 3px 1px rgba(0, 0, 0, 0.15);\n",
              "      filter: drop-shadow(0px 1px 2px rgba(0, 0, 0, 0.3));\n",
              "      fill: #FFFFFF;\n",
              "    }\n",
              "  </style>\n",
              "\n",
              "    <script>\n",
              "      const buttonEl =\n",
              "        document.querySelector('#df-920342cd-0ad9-475e-8898-9b35a1c6dd54 button.colab-df-convert');\n",
              "      buttonEl.style.display =\n",
              "        google.colab.kernel.accessAllowed ? 'block' : 'none';\n",
              "\n",
              "      async function convertToInteractive(key) {\n",
              "        const element = document.querySelector('#df-920342cd-0ad9-475e-8898-9b35a1c6dd54');\n",
              "        const dataTable =\n",
              "          await google.colab.kernel.invokeFunction('convertToInteractive',\n",
              "                                                    [key], {});\n",
              "        if (!dataTable) return;\n",
              "\n",
              "        const docLinkHtml = 'Like what you see? Visit the ' +\n",
              "          '<a target=\"_blank\" href=https://colab.research.google.com/notebooks/data_table.ipynb>data table notebook</a>'\n",
              "          + ' to learn more about interactive tables.';\n",
              "        element.innerHTML = '';\n",
              "        dataTable['output_type'] = 'display_data';\n",
              "        await google.colab.output.renderOutput(dataTable, element);\n",
              "        const docLink = document.createElement('div');\n",
              "        docLink.innerHTML = docLinkHtml;\n",
              "        element.appendChild(docLink);\n",
              "      }\n",
              "    </script>\n",
              "  </div>\n",
              "\n",
              "\n",
              "<div id=\"df-04d63216-0df6-4589-86a3-436166ee7d50\">\n",
              "  <button class=\"colab-df-quickchart\" onclick=\"quickchart('df-04d63216-0df6-4589-86a3-436166ee7d50')\"\n",
              "            title=\"Suggest charts\"\n",
              "            style=\"display:none;\">\n",
              "\n",
              "<svg xmlns=\"http://www.w3.org/2000/svg\" height=\"24px\"viewBox=\"0 0 24 24\"\n",
              "     width=\"24px\">\n",
              "    <g>\n",
              "        <path d=\"M19 3H5c-1.1 0-2 .9-2 2v14c0 1.1.9 2 2 2h14c1.1 0 2-.9 2-2V5c0-1.1-.9-2-2-2zM9 17H7v-7h2v7zm4 0h-2V7h2v10zm4 0h-2v-4h2v4z\"/>\n",
              "    </g>\n",
              "</svg>\n",
              "  </button>\n",
              "\n",
              "<style>\n",
              "  .colab-df-quickchart {\n",
              "      --bg-color: #E8F0FE;\n",
              "      --fill-color: #1967D2;\n",
              "      --hover-bg-color: #E2EBFA;\n",
              "      --hover-fill-color: #174EA6;\n",
              "      --disabled-fill-color: #AAA;\n",
              "      --disabled-bg-color: #DDD;\n",
              "  }\n",
              "\n",
              "  [theme=dark] .colab-df-quickchart {\n",
              "      --bg-color: #3B4455;\n",
              "      --fill-color: #D2E3FC;\n",
              "      --hover-bg-color: #434B5C;\n",
              "      --hover-fill-color: #FFFFFF;\n",
              "      --disabled-bg-color: #3B4455;\n",
              "      --disabled-fill-color: #666;\n",
              "  }\n",
              "\n",
              "  .colab-df-quickchart {\n",
              "    background-color: var(--bg-color);\n",
              "    border: none;\n",
              "    border-radius: 50%;\n",
              "    cursor: pointer;\n",
              "    display: none;\n",
              "    fill: var(--fill-color);\n",
              "    height: 32px;\n",
              "    padding: 0;\n",
              "    width: 32px;\n",
              "  }\n",
              "\n",
              "  .colab-df-quickchart:hover {\n",
              "    background-color: var(--hover-bg-color);\n",
              "    box-shadow: 0 1px 2px rgba(60, 64, 67, 0.3), 0 1px 3px 1px rgba(60, 64, 67, 0.15);\n",
              "    fill: var(--button-hover-fill-color);\n",
              "  }\n",
              "\n",
              "  .colab-df-quickchart-complete:disabled,\n",
              "  .colab-df-quickchart-complete:disabled:hover {\n",
              "    background-color: var(--disabled-bg-color);\n",
              "    fill: var(--disabled-fill-color);\n",
              "    box-shadow: none;\n",
              "  }\n",
              "\n",
              "  .colab-df-spinner {\n",
              "    border: 2px solid var(--fill-color);\n",
              "    border-color: transparent;\n",
              "    border-bottom-color: var(--fill-color);\n",
              "    animation:\n",
              "      spin 1s steps(1) infinite;\n",
              "  }\n",
              "\n",
              "  @keyframes spin {\n",
              "    0% {\n",
              "      border-color: transparent;\n",
              "      border-bottom-color: var(--fill-color);\n",
              "      border-left-color: var(--fill-color);\n",
              "    }\n",
              "    20% {\n",
              "      border-color: transparent;\n",
              "      border-left-color: var(--fill-color);\n",
              "      border-top-color: var(--fill-color);\n",
              "    }\n",
              "    30% {\n",
              "      border-color: transparent;\n",
              "      border-left-color: var(--fill-color);\n",
              "      border-top-color: var(--fill-color);\n",
              "      border-right-color: var(--fill-color);\n",
              "    }\n",
              "    40% {\n",
              "      border-color: transparent;\n",
              "      border-right-color: var(--fill-color);\n",
              "      border-top-color: var(--fill-color);\n",
              "    }\n",
              "    60% {\n",
              "      border-color: transparent;\n",
              "      border-right-color: var(--fill-color);\n",
              "    }\n",
              "    80% {\n",
              "      border-color: transparent;\n",
              "      border-right-color: var(--fill-color);\n",
              "      border-bottom-color: var(--fill-color);\n",
              "    }\n",
              "    90% {\n",
              "      border-color: transparent;\n",
              "      border-bottom-color: var(--fill-color);\n",
              "    }\n",
              "  }\n",
              "</style>\n",
              "\n",
              "  <script>\n",
              "    async function quickchart(key) {\n",
              "      const quickchartButtonEl =\n",
              "        document.querySelector('#' + key + ' button');\n",
              "      quickchartButtonEl.disabled = true;  // To prevent multiple clicks.\n",
              "      quickchartButtonEl.classList.add('colab-df-spinner');\n",
              "      try {\n",
              "        const charts = await google.colab.kernel.invokeFunction(\n",
              "            'suggestCharts', [key], {});\n",
              "      } catch (error) {\n",
              "        console.error('Error during call to suggestCharts:', error);\n",
              "      }\n",
              "      quickchartButtonEl.classList.remove('colab-df-spinner');\n",
              "      quickchartButtonEl.classList.add('colab-df-quickchart-complete');\n",
              "    }\n",
              "    (() => {\n",
              "      let quickchartButtonEl =\n",
              "        document.querySelector('#df-04d63216-0df6-4589-86a3-436166ee7d50 button');\n",
              "      quickchartButtonEl.style.display =\n",
              "        google.colab.kernel.accessAllowed ? 'block' : 'none';\n",
              "    })();\n",
              "  </script>\n",
              "</div>\n",
              "\n",
              "    </div>\n",
              "  </div>\n"
            ],
            "application/vnd.google.colaboratory.intrinsic+json": {
              "type": "dataframe",
              "summary": "{\n  \"name\": \"df_fraud\",\n  \"rows\": 3,\n  \"fields\": [\n    {\n      \"column\": \"count\",\n      \"properties\": {\n        \"dtype\": \"date\",\n        \"min\": \"6362620\",\n        \"max\": \"6362620\",\n        \"num_unique_values\": 1,\n        \"samples\": [\n          \"6362620\"\n        ],\n        \"semantic_type\": \"\",\n        \"description\": \"\"\n      }\n    },\n    {\n      \"column\": \"unique\",\n      \"properties\": {\n        \"dtype\": \"date\",\n        \"min\": 5,\n        \"max\": 6353307,\n        \"num_unique_values\": 3,\n        \"samples\": [\n          5\n        ],\n        \"semantic_type\": \"\",\n        \"description\": \"\"\n      }\n    },\n    {\n      \"column\": \"top\",\n      \"properties\": {\n        \"dtype\": \"string\",\n        \"num_unique_values\": 3,\n        \"samples\": [\n          \"CASH_OUT\"\n        ],\n        \"semantic_type\": \"\",\n        \"description\": \"\"\n      }\n    },\n    {\n      \"column\": \"freq\",\n      \"properties\": {\n        \"dtype\": \"date\",\n        \"min\": \"3\",\n        \"max\": \"2237500\",\n        \"num_unique_values\": 3,\n        \"samples\": [\n          \"2237500\"\n        ],\n        \"semantic_type\": \"\",\n        \"description\": \"\"\n      }\n    }\n  ]\n}"
            }
          },
          "metadata": {},
          "execution_count": 35
        }
      ]
    },
    {
      "cell_type": "code",
      "source": [
        "# Checking how many frauds are there\n",
        "df_fraud['isFraud'].value_counts()"
      ],
      "metadata": {
        "id": "wk-9a2fpoLcV",
        "colab": {
          "base_uri": "https://localhost:8080/"
        },
        "outputId": "d976b5c9-e869-441f-d095-d0ccba570217"
      },
      "execution_count": null,
      "outputs": [
        {
          "output_type": "execute_result",
          "data": {
            "text/plain": [
              "isFraud\n",
              "0    6354407\n",
              "1       8213\n",
              "Name: count, dtype: int64"
            ]
          },
          "metadata": {},
          "execution_count": 19
        }
      ]
    },
    {
      "cell_type": "code",
      "source": [
        "# Checking how many steps are involved\n",
        "df_fraud['step'].value_counts()"
      ],
      "metadata": {
        "colab": {
          "base_uri": "https://localhost:8080/"
        },
        "id": "eQc-24fEkusr",
        "outputId": "f31c9839-c682-4a38-d902-433052f07fde"
      },
      "execution_count": null,
      "outputs": [
        {
          "output_type": "execute_result",
          "data": {
            "text/plain": [
              "step\n",
              "19     51352\n",
              "18     49579\n",
              "187    49083\n",
              "235    47491\n",
              "307    46968\n",
              "       ...  \n",
              "432        4\n",
              "706        4\n",
              "693        4\n",
              "112        2\n",
              "662        2\n",
              "Name: count, Length: 743, dtype: int64"
            ]
          },
          "metadata": {},
          "execution_count": 23
        }
      ]
    },
    {
      "cell_type": "code",
      "source": [
        "# Checking how many types of transactiom are there\n",
        "df_fraud['type'].value_counts()"
      ],
      "metadata": {
        "colab": {
          "base_uri": "https://localhost:8080/"
        },
        "id": "OrojiYzpv4Hn",
        "outputId": "fc01d03d-eda2-4db5-f277-d25b8f7f35d3"
      },
      "execution_count": null,
      "outputs": [
        {
          "output_type": "execute_result",
          "data": {
            "text/plain": [
              "type\n",
              "CASH_OUT    2237500\n",
              "PAYMENT     2151495\n",
              "CASH_IN     1399284\n",
              "TRANSFER     532909\n",
              "DEBIT         41432\n",
              "Name: count, dtype: int64"
            ]
          },
          "metadata": {},
          "execution_count": 36
        }
      ]
    },
    {
      "cell_type": "code",
      "source": [
        "# Finding  out the types of fraudulent transaction types out of all the transaction modes.\n",
        "print('The Types of fraudulent transactions are {}'.format(list(df_fraud.loc[df_fraud.isFraud==1].type.drop_duplicates().values)))"
      ],
      "metadata": {
        "colab": {
          "base_uri": "https://localhost:8080/"
        },
        "id": "T71GIj-cNVHk",
        "outputId": "ba79b63c-8cf2-46e7-d4f2-a03ea31ae0fe"
      },
      "execution_count": null,
      "outputs": [
        {
          "output_type": "stream",
          "name": "stdout",
          "text": [
            "The Types of fraudulent transactions are ['TRANSFER', 'CASH_OUT']\n"
          ]
        }
      ]
    },
    {
      "cell_type": "code",
      "source": [
        "# Figuring out the fraud transfer and fraud cash outs\n",
        "dfFraudTransfer=df_fraud.loc[(df_fraud.isFraud==1) & (df_fraud.type=='TRANSFER')]\n",
        "dfFraudCashout=df_fraud.loc[(df_fraud.isFraud==1) & (df_fraud.type=='CASH_OUT')]\n",
        "\n",
        "# Printing the number of fraudulent transfers ans cash outs\n",
        "print ('The number of fraudulent TRANSFERs = {}'.format(len(dfFraudTransfer)))\n",
        "print ('The number of fraudulent CASH_OUTs = {}'.format(len(dfFraudCashout)))"
      ],
      "metadata": {
        "colab": {
          "base_uri": "https://localhost:8080/"
        },
        "id": "5e94-NMcMZA_",
        "outputId": "eed6ec09-e533-43e5-d348-1b9cd88d84ae"
      },
      "execution_count": null,
      "outputs": [
        {
          "output_type": "stream",
          "name": "stdout",
          "text": [
            "The number of fraudulent TRANSFERs = 4097\n",
            "The number of fraudulent CASH_OUTs = 4116\n"
          ]
        }
      ]
    },
    {
      "cell_type": "code",
      "source": [
        "print('Transfer Transaction')\n",
        "print('Minimum Transaction :', df_fraud.loc[(df_fraud.isFraud==1) & (df_fraud.type=='TRANSFER')].amount.min())\n",
        "print('Maximum Transaction :', df_fraud.loc[(df_fraud.isFraud==1) & (df_fraud.type=='TRANSFER')].amount.max())\n",
        "\n",
        "print('\\nCASH_OUT Transaction')\n",
        "print('Minimum Transaction :', df_fraud.loc[(df_fraud.isFraud==1) & (df_fraud.type=='CASH_OUT')].amount.min())\n",
        "print('Maximum Transaction :', df_fraud.loc[(df_fraud.isFraud==1) & (df_fraud.type=='CASH_OUT')].amount.max())"
      ],
      "metadata": {
        "colab": {
          "base_uri": "https://localhost:8080/"
        },
        "id": "6aSAkn9nM9ig",
        "outputId": "bc2eb88c-e7bb-4f60-f880-cf652290c146"
      },
      "execution_count": null,
      "outputs": [
        {
          "output_type": "stream",
          "name": "stdout",
          "text": [
            "Transfer Transaction\n",
            "Minimum Transaction : 63.8\n",
            "Maximum Transaction : 10000000.0\n",
            "\n",
            "CASH_OUT Transaction\n",
            "Minimum Transaction : 0.0\n",
            "Maximum Transaction : 10000000.0\n"
          ]
        }
      ]
    },
    {
      "cell_type": "code",
      "source": [
        "# Finding out the transactions which are flagged to be fraud\n",
        "print('The Type of Transaction in which IsFlagged is set :', df_fraud.loc[df_fraud.isFlaggedFraud==1].type.drop_duplicates().values)"
      ],
      "metadata": {
        "colab": {
          "base_uri": "https://localhost:8080/"
        },
        "id": "MSySp-Z8NNTi",
        "outputId": "eae8346b-98ae-4d0f-88a6-91f17c81e40c"
      },
      "execution_count": null,
      "outputs": [
        {
          "output_type": "stream",
          "name": "stdout",
          "text": [
            "The Type of Transaction in which IsFlagged is set : ['TRANSFER']\n"
          ]
        }
      ]
    },
    {
      "cell_type": "code",
      "source": [
        "# Figuringing out the no. of flagged fraudulent transactions\n",
        "FlaggedFraud=df_fraud.loc[(df_fraud.isFlaggedFraud==1) & (df_fraud.type=='TRANSFER')]\n",
        "print('The no. of Flagged Fraudulent Transactions :', len(FlaggedFraud))\n",
        "\n",
        "# Printing the minimum and maximum transactions done when FlaggedFraud is set\n",
        "# The Transaction mode being Transfer\n",
        "print('Minimum Transaction :', df_fraud.loc[df_fraud.isFlaggedFraud==1].amount.min())\n",
        "print('Maximum Transaction :', df_fraud.loc[df_fraud.isFlaggedFraud==1].amount.max())"
      ],
      "metadata": {
        "colab": {
          "base_uri": "https://localhost:8080/"
        },
        "id": "TAaWY_g2NqAE",
        "outputId": "2478f7ff-adec-402c-b3be-078ba7f2a143"
      },
      "execution_count": null,
      "outputs": [
        {
          "output_type": "stream",
          "name": "stdout",
          "text": [
            "The no. of Flagged Fraudulent Transactions : 16\n",
            "Minimum Transaction : 353874.22\n",
            "Maximum Transaction : 10000000.0\n"
          ]
        }
      ]
    },
    {
      "cell_type": "code",
      "source": [
        "# Figuring out the transactions where old balance dest and new balance dest are 0 being FlaggedFraud\n",
        "x=df_fraud.loc[(df_fraud.isFlaggedFraud==0) & (df_fraud.oldbalanceDest==0) & (df_fraud.newbalanceDest==0)]\n",
        "print('Figuring out the no. of transactions where old balance dest and new balance dest are 0 being FlaggedFraud :', x)"
      ],
      "metadata": {
        "colab": {
          "base_uri": "https://localhost:8080/"
        },
        "id": "EcA5y1AQOL4Y",
        "outputId": "cdcb4ed9-9015-479c-973f-c296792924c3"
      },
      "execution_count": null,
      "outputs": [
        {
          "output_type": "stream",
          "name": "stdout",
          "text": [
            "Figuring out the no. of transactions where old balance dest and new balance dest are 0 being FlaggedFraud :          step      type      amount     nameOrig  oldbalanceOrg  \\\n",
            "0           1   PAYMENT     9839.64  C1231006815      170136.00   \n",
            "1           1   PAYMENT     1864.28  C1666544295       21249.00   \n",
            "2           1  TRANSFER      181.00  C1305486145         181.00   \n",
            "4           1   PAYMENT    11668.14  C2048537720       41554.00   \n",
            "5           1   PAYMENT     7817.71    C90045638       53860.00   \n",
            "...       ...       ...         ...          ...            ...   \n",
            "6362610   742  TRANSFER    63416.99   C778071008       63416.99   \n",
            "6362612   743  TRANSFER  1258818.82  C1531301470     1258818.82   \n",
            "6362614   743  TRANSFER   339682.13  C2013999242      339682.13   \n",
            "6362616   743  TRANSFER  6311409.28  C1529008245     6311409.28   \n",
            "6362618   743  TRANSFER   850002.52  C1685995037      850002.52   \n",
            "\n",
            "         newbalanceOrig     nameDest  oldbalanceDest  newbalanceDest  isFraud  \\\n",
            "0             160296.36  M1979787155             0.0             0.0        0   \n",
            "1              19384.72  M2044282225             0.0             0.0        0   \n",
            "2                  0.00   C553264065             0.0             0.0        1   \n",
            "4              29885.86  M1230701703             0.0             0.0        0   \n",
            "5              46042.29   M573487274             0.0             0.0        0   \n",
            "...                 ...          ...             ...             ...      ...   \n",
            "6362610            0.00  C1812552860             0.0             0.0        1   \n",
            "6362612            0.00  C1470998563             0.0             0.0        1   \n",
            "6362614            0.00  C1850423904             0.0             0.0        1   \n",
            "6362616            0.00  C1881841831             0.0             0.0        1   \n",
            "6362618            0.00  C2080388513             0.0             0.0        1   \n",
            "\n",
            "         isFlaggedFraud  \n",
            "0                     0  \n",
            "1                     0  \n",
            "2                     0  \n",
            "4                     0  \n",
            "5                     0  \n",
            "...                 ...  \n",
            "6362610               0  \n",
            "6362612               0  \n",
            "6362614               0  \n",
            "6362616               0  \n",
            "6362618               0  \n",
            "\n",
            "[2317266 rows x 11 columns]\n"
          ]
        }
      ]
    },
    {
      "cell_type": "markdown",
      "source": [
        "**Dataset where only Transfer Transactions are mentioned**\n"
      ],
      "metadata": {
        "id": "0rwod2m9O17h"
      }
    },
    {
      "cell_type": "code",
      "source": [
        "# defining a dataset containing only transfer type of transactions\n",
        "dataTransfer=df_fraud.loc[df_fraud['type']=='TRANSFER']\n",
        "dataTransfer=pd.DataFrame(dataTransfer)\n",
        "dataTransfer.head()"
      ],
      "metadata": {
        "colab": {
          "base_uri": "https://localhost:8080/",
          "height": 206
        },
        "id": "JxFsnTlLOve0",
        "outputId": "4ee5e3b1-736c-4e07-c383-a15ce1155dfb"
      },
      "execution_count": null,
      "outputs": [
        {
          "output_type": "execute_result",
          "data": {
            "text/plain": [
              "    step      type     amount     nameOrig  oldbalanceOrg  newbalanceOrig  \\\n",
              "2      1  TRANSFER     181.00  C1305486145         181.00             0.0   \n",
              "19     1  TRANSFER  215310.30  C1670993182         705.00             0.0   \n",
              "24     1  TRANSFER  311685.89  C1984094095       10835.00             0.0   \n",
              "58     1  TRANSFER   62610.80  C1976401987       79114.00         16503.2   \n",
              "78     1  TRANSFER   42712.39   C283039401       10363.39             0.0   \n",
              "\n",
              "       nameDest  oldbalanceDest  newbalanceDest  isFraud  isFlaggedFraud  \n",
              "2    C553264065            0.00            0.00        1               0  \n",
              "19  C1100439041        22425.00            0.00        0               0  \n",
              "24   C932583850         6267.00      2719172.89        0               0  \n",
              "58  C1937962514          517.00         8383.29        0               0  \n",
              "78  C1330106945        57901.66        24044.18        0               0  "
            ],
            "text/html": [
              "\n",
              "  <div id=\"df-5995be9c-31ae-4c6c-a9cc-9f6c802490d8\" class=\"colab-df-container\">\n",
              "    <div>\n",
              "<style scoped>\n",
              "    .dataframe tbody tr th:only-of-type {\n",
              "        vertical-align: middle;\n",
              "    }\n",
              "\n",
              "    .dataframe tbody tr th {\n",
              "        vertical-align: top;\n",
              "    }\n",
              "\n",
              "    .dataframe thead th {\n",
              "        text-align: right;\n",
              "    }\n",
              "</style>\n",
              "<table border=\"1\" class=\"dataframe\">\n",
              "  <thead>\n",
              "    <tr style=\"text-align: right;\">\n",
              "      <th></th>\n",
              "      <th>step</th>\n",
              "      <th>type</th>\n",
              "      <th>amount</th>\n",
              "      <th>nameOrig</th>\n",
              "      <th>oldbalanceOrg</th>\n",
              "      <th>newbalanceOrig</th>\n",
              "      <th>nameDest</th>\n",
              "      <th>oldbalanceDest</th>\n",
              "      <th>newbalanceDest</th>\n",
              "      <th>isFraud</th>\n",
              "      <th>isFlaggedFraud</th>\n",
              "    </tr>\n",
              "  </thead>\n",
              "  <tbody>\n",
              "    <tr>\n",
              "      <th>2</th>\n",
              "      <td>1</td>\n",
              "      <td>TRANSFER</td>\n",
              "      <td>181.00</td>\n",
              "      <td>C1305486145</td>\n",
              "      <td>181.00</td>\n",
              "      <td>0.0</td>\n",
              "      <td>C553264065</td>\n",
              "      <td>0.00</td>\n",
              "      <td>0.00</td>\n",
              "      <td>1</td>\n",
              "      <td>0</td>\n",
              "    </tr>\n",
              "    <tr>\n",
              "      <th>19</th>\n",
              "      <td>1</td>\n",
              "      <td>TRANSFER</td>\n",
              "      <td>215310.30</td>\n",
              "      <td>C1670993182</td>\n",
              "      <td>705.00</td>\n",
              "      <td>0.0</td>\n",
              "      <td>C1100439041</td>\n",
              "      <td>22425.00</td>\n",
              "      <td>0.00</td>\n",
              "      <td>0</td>\n",
              "      <td>0</td>\n",
              "    </tr>\n",
              "    <tr>\n",
              "      <th>24</th>\n",
              "      <td>1</td>\n",
              "      <td>TRANSFER</td>\n",
              "      <td>311685.89</td>\n",
              "      <td>C1984094095</td>\n",
              "      <td>10835.00</td>\n",
              "      <td>0.0</td>\n",
              "      <td>C932583850</td>\n",
              "      <td>6267.00</td>\n",
              "      <td>2719172.89</td>\n",
              "      <td>0</td>\n",
              "      <td>0</td>\n",
              "    </tr>\n",
              "    <tr>\n",
              "      <th>58</th>\n",
              "      <td>1</td>\n",
              "      <td>TRANSFER</td>\n",
              "      <td>62610.80</td>\n",
              "      <td>C1976401987</td>\n",
              "      <td>79114.00</td>\n",
              "      <td>16503.2</td>\n",
              "      <td>C1937962514</td>\n",
              "      <td>517.00</td>\n",
              "      <td>8383.29</td>\n",
              "      <td>0</td>\n",
              "      <td>0</td>\n",
              "    </tr>\n",
              "    <tr>\n",
              "      <th>78</th>\n",
              "      <td>1</td>\n",
              "      <td>TRANSFER</td>\n",
              "      <td>42712.39</td>\n",
              "      <td>C283039401</td>\n",
              "      <td>10363.39</td>\n",
              "      <td>0.0</td>\n",
              "      <td>C1330106945</td>\n",
              "      <td>57901.66</td>\n",
              "      <td>24044.18</td>\n",
              "      <td>0</td>\n",
              "      <td>0</td>\n",
              "    </tr>\n",
              "  </tbody>\n",
              "</table>\n",
              "</div>\n",
              "    <div class=\"colab-df-buttons\">\n",
              "\n",
              "  <div class=\"colab-df-container\">\n",
              "    <button class=\"colab-df-convert\" onclick=\"convertToInteractive('df-5995be9c-31ae-4c6c-a9cc-9f6c802490d8')\"\n",
              "            title=\"Convert this dataframe to an interactive table.\"\n",
              "            style=\"display:none;\">\n",
              "\n",
              "  <svg xmlns=\"http://www.w3.org/2000/svg\" height=\"24px\" viewBox=\"0 -960 960 960\">\n",
              "    <path d=\"M120-120v-720h720v720H120Zm60-500h600v-160H180v160Zm220 220h160v-160H400v160Zm0 220h160v-160H400v160ZM180-400h160v-160H180v160Zm440 0h160v-160H620v160ZM180-180h160v-160H180v160Zm440 0h160v-160H620v160Z\"/>\n",
              "  </svg>\n",
              "    </button>\n",
              "\n",
              "  <style>\n",
              "    .colab-df-container {\n",
              "      display:flex;\n",
              "      gap: 12px;\n",
              "    }\n",
              "\n",
              "    .colab-df-convert {\n",
              "      background-color: #E8F0FE;\n",
              "      border: none;\n",
              "      border-radius: 50%;\n",
              "      cursor: pointer;\n",
              "      display: none;\n",
              "      fill: #1967D2;\n",
              "      height: 32px;\n",
              "      padding: 0 0 0 0;\n",
              "      width: 32px;\n",
              "    }\n",
              "\n",
              "    .colab-df-convert:hover {\n",
              "      background-color: #E2EBFA;\n",
              "      box-shadow: 0px 1px 2px rgba(60, 64, 67, 0.3), 0px 1px 3px 1px rgba(60, 64, 67, 0.15);\n",
              "      fill: #174EA6;\n",
              "    }\n",
              "\n",
              "    .colab-df-buttons div {\n",
              "      margin-bottom: 4px;\n",
              "    }\n",
              "\n",
              "    [theme=dark] .colab-df-convert {\n",
              "      background-color: #3B4455;\n",
              "      fill: #D2E3FC;\n",
              "    }\n",
              "\n",
              "    [theme=dark] .colab-df-convert:hover {\n",
              "      background-color: #434B5C;\n",
              "      box-shadow: 0px 1px 3px 1px rgba(0, 0, 0, 0.15);\n",
              "      filter: drop-shadow(0px 1px 2px rgba(0, 0, 0, 0.3));\n",
              "      fill: #FFFFFF;\n",
              "    }\n",
              "  </style>\n",
              "\n",
              "    <script>\n",
              "      const buttonEl =\n",
              "        document.querySelector('#df-5995be9c-31ae-4c6c-a9cc-9f6c802490d8 button.colab-df-convert');\n",
              "      buttonEl.style.display =\n",
              "        google.colab.kernel.accessAllowed ? 'block' : 'none';\n",
              "\n",
              "      async function convertToInteractive(key) {\n",
              "        const element = document.querySelector('#df-5995be9c-31ae-4c6c-a9cc-9f6c802490d8');\n",
              "        const dataTable =\n",
              "          await google.colab.kernel.invokeFunction('convertToInteractive',\n",
              "                                                    [key], {});\n",
              "        if (!dataTable) return;\n",
              "\n",
              "        const docLinkHtml = 'Like what you see? Visit the ' +\n",
              "          '<a target=\"_blank\" href=https://colab.research.google.com/notebooks/data_table.ipynb>data table notebook</a>'\n",
              "          + ' to learn more about interactive tables.';\n",
              "        element.innerHTML = '';\n",
              "        dataTable['output_type'] = 'display_data';\n",
              "        await google.colab.output.renderOutput(dataTable, element);\n",
              "        const docLink = document.createElement('div');\n",
              "        docLink.innerHTML = docLinkHtml;\n",
              "        element.appendChild(docLink);\n",
              "      }\n",
              "    </script>\n",
              "  </div>\n",
              "\n",
              "\n",
              "<div id=\"df-a1b4b6eb-34b4-45c0-9887-af7b6b28a7bc\">\n",
              "  <button class=\"colab-df-quickchart\" onclick=\"quickchart('df-a1b4b6eb-34b4-45c0-9887-af7b6b28a7bc')\"\n",
              "            title=\"Suggest charts\"\n",
              "            style=\"display:none;\">\n",
              "\n",
              "<svg xmlns=\"http://www.w3.org/2000/svg\" height=\"24px\"viewBox=\"0 0 24 24\"\n",
              "     width=\"24px\">\n",
              "    <g>\n",
              "        <path d=\"M19 3H5c-1.1 0-2 .9-2 2v14c0 1.1.9 2 2 2h14c1.1 0 2-.9 2-2V5c0-1.1-.9-2-2-2zM9 17H7v-7h2v7zm4 0h-2V7h2v10zm4 0h-2v-4h2v4z\"/>\n",
              "    </g>\n",
              "</svg>\n",
              "  </button>\n",
              "\n",
              "<style>\n",
              "  .colab-df-quickchart {\n",
              "      --bg-color: #E8F0FE;\n",
              "      --fill-color: #1967D2;\n",
              "      --hover-bg-color: #E2EBFA;\n",
              "      --hover-fill-color: #174EA6;\n",
              "      --disabled-fill-color: #AAA;\n",
              "      --disabled-bg-color: #DDD;\n",
              "  }\n",
              "\n",
              "  [theme=dark] .colab-df-quickchart {\n",
              "      --bg-color: #3B4455;\n",
              "      --fill-color: #D2E3FC;\n",
              "      --hover-bg-color: #434B5C;\n",
              "      --hover-fill-color: #FFFFFF;\n",
              "      --disabled-bg-color: #3B4455;\n",
              "      --disabled-fill-color: #666;\n",
              "  }\n",
              "\n",
              "  .colab-df-quickchart {\n",
              "    background-color: var(--bg-color);\n",
              "    border: none;\n",
              "    border-radius: 50%;\n",
              "    cursor: pointer;\n",
              "    display: none;\n",
              "    fill: var(--fill-color);\n",
              "    height: 32px;\n",
              "    padding: 0;\n",
              "    width: 32px;\n",
              "  }\n",
              "\n",
              "  .colab-df-quickchart:hover {\n",
              "    background-color: var(--hover-bg-color);\n",
              "    box-shadow: 0 1px 2px rgba(60, 64, 67, 0.3), 0 1px 3px 1px rgba(60, 64, 67, 0.15);\n",
              "    fill: var(--button-hover-fill-color);\n",
              "  }\n",
              "\n",
              "  .colab-df-quickchart-complete:disabled,\n",
              "  .colab-df-quickchart-complete:disabled:hover {\n",
              "    background-color: var(--disabled-bg-color);\n",
              "    fill: var(--disabled-fill-color);\n",
              "    box-shadow: none;\n",
              "  }\n",
              "\n",
              "  .colab-df-spinner {\n",
              "    border: 2px solid var(--fill-color);\n",
              "    border-color: transparent;\n",
              "    border-bottom-color: var(--fill-color);\n",
              "    animation:\n",
              "      spin 1s steps(1) infinite;\n",
              "  }\n",
              "\n",
              "  @keyframes spin {\n",
              "    0% {\n",
              "      border-color: transparent;\n",
              "      border-bottom-color: var(--fill-color);\n",
              "      border-left-color: var(--fill-color);\n",
              "    }\n",
              "    20% {\n",
              "      border-color: transparent;\n",
              "      border-left-color: var(--fill-color);\n",
              "      border-top-color: var(--fill-color);\n",
              "    }\n",
              "    30% {\n",
              "      border-color: transparent;\n",
              "      border-left-color: var(--fill-color);\n",
              "      border-top-color: var(--fill-color);\n",
              "      border-right-color: var(--fill-color);\n",
              "    }\n",
              "    40% {\n",
              "      border-color: transparent;\n",
              "      border-right-color: var(--fill-color);\n",
              "      border-top-color: var(--fill-color);\n",
              "    }\n",
              "    60% {\n",
              "      border-color: transparent;\n",
              "      border-right-color: var(--fill-color);\n",
              "    }\n",
              "    80% {\n",
              "      border-color: transparent;\n",
              "      border-right-color: var(--fill-color);\n",
              "      border-bottom-color: var(--fill-color);\n",
              "    }\n",
              "    90% {\n",
              "      border-color: transparent;\n",
              "      border-bottom-color: var(--fill-color);\n",
              "    }\n",
              "  }\n",
              "</style>\n",
              "\n",
              "  <script>\n",
              "    async function quickchart(key) {\n",
              "      const quickchartButtonEl =\n",
              "        document.querySelector('#' + key + ' button');\n",
              "      quickchartButtonEl.disabled = true;  // To prevent multiple clicks.\n",
              "      quickchartButtonEl.classList.add('colab-df-spinner');\n",
              "      try {\n",
              "        const charts = await google.colab.kernel.invokeFunction(\n",
              "            'suggestCharts', [key], {});\n",
              "      } catch (error) {\n",
              "        console.error('Error during call to suggestCharts:', error);\n",
              "      }\n",
              "      quickchartButtonEl.classList.remove('colab-df-spinner');\n",
              "      quickchartButtonEl.classList.add('colab-df-quickchart-complete');\n",
              "    }\n",
              "    (() => {\n",
              "      let quickchartButtonEl =\n",
              "        document.querySelector('#df-a1b4b6eb-34b4-45c0-9887-af7b6b28a7bc button');\n",
              "      quickchartButtonEl.style.display =\n",
              "        google.colab.kernel.accessAllowed ? 'block' : 'none';\n",
              "    })();\n",
              "  </script>\n",
              "</div>\n",
              "\n",
              "    </div>\n",
              "  </div>\n"
            ],
            "application/vnd.google.colaboratory.intrinsic+json": {
              "type": "dataframe",
              "variable_name": "dataTransfer"
            }
          },
          "metadata": {},
          "execution_count": 13
        }
      ]
    },
    {
      "cell_type": "markdown",
      "source": [
        "**Minimum Original old Balance for Flagged Frauds**"
      ],
      "metadata": {
        "id": "1s-cr_CuPgJn"
      }
    },
    {
      "cell_type": "code",
      "source": [
        "# Frauds having same old and new balance\n",
        "# Sorted by old orignal balance to check original old balance for flagged frauds\n",
        "# This table shows flagged frauds with minimum and maximum original old balance\n",
        "print('Minimum Original old Balance for Flagged Frauds')\n",
        "print(dataTransfer.loc[(dataTransfer.isFlaggedFraud==1) & (dataTransfer.oldbalanceOrg==dataTransfer.newbalanceOrig)].sort_values(by ='oldbalanceOrg').head())\n",
        "print('\\n')\n",
        "print('Maximum Original old Balance for Flagged Frauds')\n",
        "print(dataTransfer.loc[(dataTransfer.isFlaggedFraud==1) & (dataTransfer.oldbalanceOrg==dataTransfer.newbalanceOrig)].sort_values(by ='oldbalanceOrg').tail())"
      ],
      "metadata": {
        "colab": {
          "base_uri": "https://localhost:8080/"
        },
        "id": "OvS5IiBgPLz3",
        "outputId": "ff9afaeb-b381-4799-91fe-1fc5896ae083"
      },
      "execution_count": null,
      "outputs": [
        {
          "output_type": "stream",
          "name": "stdout",
          "text": [
            "Minimum Original old Balance for Flagged Frauds\n",
            "         step      type      amount     nameOrig  oldbalanceOrg  \\\n",
            "6205439   586  TRANSFER   353874.22  C1684585475      353874.22   \n",
            "3760288   279  TRANSFER   536624.41  C1035541766      536624.41   \n",
            "3247297   250  TRANSFER  1343002.08  C1100582606     1343002.08   \n",
            "6266413   617  TRANSFER  2542664.27   C786455622     2542664.27   \n",
            "6351225   702  TRANSFER  3171085.59  C1892216157     3171085.59   \n",
            "\n",
            "         newbalanceOrig     nameDest  oldbalanceDest  newbalanceDest  isFraud  \\\n",
            "6205439       353874.22  C1770418982             0.0             0.0        1   \n",
            "3760288       536624.41  C1100697970             0.0             0.0        1   \n",
            "3247297      1343002.08  C1147517658             0.0             0.0        1   \n",
            "6266413      2542664.27   C661958277             0.0             0.0        1   \n",
            "6351225      3171085.59  C1308068787             0.0             0.0        1   \n",
            "\n",
            "         isFlaggedFraud  \n",
            "6205439               1  \n",
            "3760288               1  \n",
            "3247297               1  \n",
            "6266413               1  \n",
            "6351225               1  \n",
            "\n",
            "\n",
            "Maximum Original old Balance for Flagged Frauds\n",
            "         step      type       amount     nameOrig  oldbalanceOrg  \\\n",
            "6281484   646  TRANSFER    399045.08   C724693370    10399045.08   \n",
            "6362460   730  TRANSFER  10000000.00  C2140038573    17316255.05   \n",
            "6362462   730  TRANSFER   7316255.05  C1869569059    17316255.05   \n",
            "5996407   425  TRANSFER  10000000.00   C689608084    19585040.37   \n",
            "5996409   425  TRANSFER   9585040.37   C452586515    19585040.37   \n",
            "\n",
            "         newbalanceOrig     nameDest  oldbalanceDest  newbalanceDest  isFraud  \\\n",
            "6281484     10399045.08  C1909486199             0.0             0.0        1   \n",
            "6362460     17316255.05  C1395467927             0.0             0.0        1   \n",
            "6362462     17316255.05  C1861208726             0.0             0.0        1   \n",
            "5996407     19585040.37  C1392803603             0.0             0.0        1   \n",
            "5996409     19585040.37  C1109166882             0.0             0.0        1   \n",
            "\n",
            "         isFlaggedFraud  \n",
            "6281484               1  \n",
            "6362460               1  \n",
            "6362462               1  \n",
            "5996407               1  \n",
            "5996409               1  \n"
          ]
        }
      ]
    },
    {
      "cell_type": "markdown",
      "source": [
        "**Minimum and Maximum Original Old Balance for non-Flagged Frauds**"
      ],
      "metadata": {
        "id": "1Bn5nZuFP3j9"
      }
    },
    {
      "cell_type": "code",
      "source": [
        "print('Minimum Original Old Balance for non-Flagged Frauds')\n",
        "print(dataTransfer.loc[(dataTransfer['isFlaggedFraud']==0) & (dataTransfer.oldbalanceDest==dataTransfer.newbalanceDest)].sort_values(by ='oldbalanceOrg').head())\n",
        "print('\\n')\n",
        "print('Maximum Original Old Balance for non-Flagged Frauds')\n",
        "print(dataTransfer.loc[(dataTransfer['isFlaggedFraud']==0) & (dataTransfer.oldbalanceDest==dataTransfer.newbalanceDest)].sort_values(by ='oldbalanceOrg').tail())"
      ],
      "metadata": {
        "colab": {
          "base_uri": "https://localhost:8080/"
        },
        "id": "On1szca7P0d5",
        "outputId": "213433b4-386a-4a98-ea61-e67bb898eb2a"
      },
      "execution_count": null,
      "outputs": [
        {
          "output_type": "stream",
          "name": "stdout",
          "text": [
            "Minimum Original Old Balance for non-Flagged Frauds\n",
            "        step      type     amount     nameOrig  oldbalanceOrg  newbalanceOrig  \\\n",
            "160646    12  TRANSFER  342317.15  C2070529657            0.0             0.0   \n",
            "957368    44  TRANSFER  133711.48   C256147273            0.0             0.0   \n",
            "1248       1  TRANSFER  271161.74  C1658487789            0.0             0.0   \n",
            "175828    12  TRANSFER   18931.59   C257351690            0.0             0.0   \n",
            "282796    15  TRANSFER  421255.41  C1734485985            0.0             0.0   \n",
            "\n",
            "           nameDest  oldbalanceDest  newbalanceDest  isFraud  isFlaggedFraud  \n",
            "160646   C621118463             0.0             0.0        0               0  \n",
            "957368  C1582233295             0.0             0.0        0               0  \n",
            "1248    C1219161283             0.0             0.0        0               0  \n",
            "175828  C1108098323             0.0             0.0        0               0  \n",
            "282796   C981307359             0.0             0.0        0               0  \n",
            "\n",
            "\n",
            "Maximum Original Old Balance for non-Flagged Frauds\n",
            "         step      type      amount     nameOrig  oldbalanceOrg  \\\n",
            "6362454   730  TRANSFER  10000000.0   C507645439    47316255.05   \n",
            "5996401   425  TRANSFER  10000000.0  C1551381510    49585040.37   \n",
            "6281474   646  TRANSFER  10000000.0   C590657619    50399045.08   \n",
            "6362452   730  TRANSFER  10000000.0   C726730575    57316255.05   \n",
            "5996399   425  TRANSFER  10000000.0    C40489106    59585040.37   \n",
            "\n",
            "         newbalanceOrig     nameDest  oldbalanceDest  newbalanceDest  isFraud  \\\n",
            "6362454     37316255.05   C270374999             0.0             0.0        1   \n",
            "5996401     39585040.37  C1042012237             0.0             0.0        1   \n",
            "6281474     40399045.08  C1971187430             0.0             0.0        1   \n",
            "6362452     47316255.05  C1364745638             0.0             0.0        1   \n",
            "5996399     49585040.37   C650095152             0.0             0.0        1   \n",
            "\n",
            "         isFlaggedFraud  \n",
            "6362454               0  \n",
            "5996401               0  \n",
            "6281474               0  \n",
            "6362452               0  \n",
            "5996399               0  \n"
          ]
        }
      ]
    },
    {
      "cell_type": "code",
      "source": [
        "# Finding out the minimum and maximum amount for oldbalance original where oldbalance and newbalance for dest is same.\n",
        "dataFlagged=df_fraud.loc[df_fraud.isFlaggedFraud==1]\n",
        "print('Minimum Balance of oldBalanceOrig for FlaggedFraud and Transfer mode :', dataFlagged.oldbalanceOrg.min())\n",
        "print('Maximum Balance of oldbalanceOrig for FlaggedFraud and Transfer mode :', dataFlagged.oldbalanceOrg.max())"
      ],
      "metadata": {
        "colab": {
          "base_uri": "https://localhost:8080/"
        },
        "id": "7T8d0QBVRRzg",
        "outputId": "cb50ca2c-a1aa-455f-cf34-e842ba056f7c"
      },
      "execution_count": null,
      "outputs": [
        {
          "output_type": "stream",
          "name": "stdout",
          "text": [
            "Minimum Balance of oldBalanceOrig for FlaggedFraud and Transfer mode : 353874.22\n",
            "Maximum Balance of oldbalanceOrig for FlaggedFraud and Transfer mode : 19585040.37\n"
          ]
        }
      ]
    },
    {
      "cell_type": "code",
      "source": [
        "# Finding the maximum and minimum balance in original balance when newbalance original and oldbalance original are equal\n",
        "print('Minimum Balance of oldbalanceOrig for non FlaggedFraud and Transfer mode:',\n",
        "      df_fraud[(df_fraud.type=='TRANSFER') & (df_fraud.isFlaggedFraud==0) & (df_fraud.oldbalanceOrg==df_fraud.newbalanceOrig)].oldbalanceOrg.min())\n",
        "print('Maximum Balance of oldbalanceOrig for non FlaggedFraud and Transfer mode:',\n",
        "      df_fraud[(df_fraud.type=='TRANSFER') & (df_fraud.isFlaggedFraud==0) & (df_fraud.oldbalanceOrg==df_fraud.newbalanceOrig)].oldbalanceOrg.max())"
      ],
      "metadata": {
        "colab": {
          "base_uri": "https://localhost:8080/"
        },
        "id": "pO-uXruFRlC7",
        "outputId": "2c1d3886-2ee5-4359-ba23-bd361d00301c"
      },
      "execution_count": null,
      "outputs": [
        {
          "output_type": "stream",
          "name": "stdout",
          "text": [
            "Minimum Balance of oldbalanceOrig for non FlaggedFraud and Transfer mode: 0.0\n",
            "Maximum Balance of oldbalanceOrig for non FlaggedFraud and Transfer mode: 575667.54\n"
          ]
        }
      ]
    },
    {
      "cell_type": "code",
      "source": [
        "print('Minimum Balance of oldbalanceOrig for  FlaggedFraud and Transfer mode:',\n",
        "      df_fraud[(df_fraud.type=='TRANSFER') & (df_fraud.isFlaggedFraud==1) & (df_fraud.oldbalanceOrg==df_fraud.newbalanceOrig)].oldbalanceOrg.min())\n",
        "print('Maximum Balance of oldbalanceOrig for non FlaggedFraud and Transfer mode:',\n",
        "      df_fraud[(df_fraud.type=='TRANSFER') & (df_fraud.isFlaggedFraud==1) & (df_fraud.oldbalanceOrg==df_fraud.newbalanceOrig)].oldbalanceOrg.max())"
      ],
      "metadata": {
        "colab": {
          "base_uri": "https://localhost:8080/"
        },
        "id": "BKANtsFESjJr",
        "outputId": "19739687-03f0-4958-9280-62dd02c3d2f0"
      },
      "execution_count": null,
      "outputs": [
        {
          "output_type": "stream",
          "name": "stdout",
          "text": [
            "Minimum Balance of oldbalanceOrig for  FlaggedFraud and Transfer mode: 353874.22\n",
            "Maximum Balance of oldbalanceOrig for non FlaggedFraud and Transfer mode: 19585040.37\n"
          ]
        }
      ]
    },
    {
      "cell_type": "code",
      "source": [
        "df_fraud['nameDest'].value_counts().head(10)"
      ],
      "metadata": {
        "colab": {
          "base_uri": "https://localhost:8080/"
        },
        "id": "ksMxESTWS7yn",
        "outputId": "48e74601-0b3a-4732-a787-cd0e885d09e2"
      },
      "execution_count": null,
      "outputs": [
        {
          "output_type": "execute_result",
          "data": {
            "text/plain": [
              "nameDest\n",
              "C1286084959    113\n",
              "C985934102     109\n",
              "C665576141     105\n",
              "C2083562754    102\n",
              "C248609774     101\n",
              "C1590550415    101\n",
              "C451111351      99\n",
              "C1789550256     99\n",
              "C1360767589     98\n",
              "C1023714065     97\n",
              "Name: count, dtype: int64"
            ]
          },
          "metadata": {},
          "execution_count": 25
        }
      ]
    },
    {
      "cell_type": "code",
      "source": [
        "# making dependent and independent sets\n",
        "X=df_fraud.loc[(df_fraud.type=='TRANSFER') | (df_fraud.type=='CASH_OUT')]\n",
        "X.shape"
      ],
      "metadata": {
        "colab": {
          "base_uri": "https://localhost:8080/"
        },
        "id": "9D3esTuqSyiU",
        "outputId": "45d190d9-4303-48a1-ea05-e6665462a902"
      },
      "execution_count": null,
      "outputs": [
        {
          "output_type": "execute_result",
          "data": {
            "text/plain": [
              "(2770409, 9)"
            ]
          },
          "metadata": {},
          "execution_count": 99
        }
      ]
    },
    {
      "cell_type": "code",
      "source": [
        "X.head()"
      ],
      "metadata": {
        "colab": {
          "base_uri": "https://localhost:8080/",
          "height": 206
        },
        "id": "4UTmc9PnTEL0",
        "outputId": "cf092ded-bd10-4087-ca96-2701649ee4cd"
      },
      "execution_count": null,
      "outputs": [
        {
          "output_type": "execute_result",
          "data": {
            "text/plain": [
              "    step      type     amount     nameOrig  oldbalanceOrg  newbalanceOrig  \\\n",
              "2      1  TRANSFER     181.00  C1305486145          181.0             0.0   \n",
              "3      1  CASH_OUT     181.00   C840083671          181.0             0.0   \n",
              "15     1  CASH_OUT  229133.94   C905080434        15325.0             0.0   \n",
              "19     1  TRANSFER  215310.30  C1670993182          705.0             0.0   \n",
              "24     1  TRANSFER  311685.89  C1984094095        10835.0             0.0   \n",
              "\n",
              "       nameDest  oldbalanceDest  newbalanceDest  isFraud  isFlaggedFraud  \n",
              "2    C553264065             0.0            0.00        1               0  \n",
              "3     C38997010         21182.0            0.00        1               0  \n",
              "15   C476402209          5083.0        51513.44        0               0  \n",
              "19  C1100439041         22425.0            0.00        0               0  \n",
              "24   C932583850          6267.0      2719172.89        0               0  "
            ],
            "text/html": [
              "\n",
              "  <div id=\"df-071574c4-d65f-47f4-8208-c0be93d2a06b\" class=\"colab-df-container\">\n",
              "    <div>\n",
              "<style scoped>\n",
              "    .dataframe tbody tr th:only-of-type {\n",
              "        vertical-align: middle;\n",
              "    }\n",
              "\n",
              "    .dataframe tbody tr th {\n",
              "        vertical-align: top;\n",
              "    }\n",
              "\n",
              "    .dataframe thead th {\n",
              "        text-align: right;\n",
              "    }\n",
              "</style>\n",
              "<table border=\"1\" class=\"dataframe\">\n",
              "  <thead>\n",
              "    <tr style=\"text-align: right;\">\n",
              "      <th></th>\n",
              "      <th>step</th>\n",
              "      <th>type</th>\n",
              "      <th>amount</th>\n",
              "      <th>nameOrig</th>\n",
              "      <th>oldbalanceOrg</th>\n",
              "      <th>newbalanceOrig</th>\n",
              "      <th>nameDest</th>\n",
              "      <th>oldbalanceDest</th>\n",
              "      <th>newbalanceDest</th>\n",
              "      <th>isFraud</th>\n",
              "      <th>isFlaggedFraud</th>\n",
              "    </tr>\n",
              "  </thead>\n",
              "  <tbody>\n",
              "    <tr>\n",
              "      <th>2</th>\n",
              "      <td>1</td>\n",
              "      <td>TRANSFER</td>\n",
              "      <td>181.00</td>\n",
              "      <td>C1305486145</td>\n",
              "      <td>181.0</td>\n",
              "      <td>0.0</td>\n",
              "      <td>C553264065</td>\n",
              "      <td>0.0</td>\n",
              "      <td>0.00</td>\n",
              "      <td>1</td>\n",
              "      <td>0</td>\n",
              "    </tr>\n",
              "    <tr>\n",
              "      <th>3</th>\n",
              "      <td>1</td>\n",
              "      <td>CASH_OUT</td>\n",
              "      <td>181.00</td>\n",
              "      <td>C840083671</td>\n",
              "      <td>181.0</td>\n",
              "      <td>0.0</td>\n",
              "      <td>C38997010</td>\n",
              "      <td>21182.0</td>\n",
              "      <td>0.00</td>\n",
              "      <td>1</td>\n",
              "      <td>0</td>\n",
              "    </tr>\n",
              "    <tr>\n",
              "      <th>15</th>\n",
              "      <td>1</td>\n",
              "      <td>CASH_OUT</td>\n",
              "      <td>229133.94</td>\n",
              "      <td>C905080434</td>\n",
              "      <td>15325.0</td>\n",
              "      <td>0.0</td>\n",
              "      <td>C476402209</td>\n",
              "      <td>5083.0</td>\n",
              "      <td>51513.44</td>\n",
              "      <td>0</td>\n",
              "      <td>0</td>\n",
              "    </tr>\n",
              "    <tr>\n",
              "      <th>19</th>\n",
              "      <td>1</td>\n",
              "      <td>TRANSFER</td>\n",
              "      <td>215310.30</td>\n",
              "      <td>C1670993182</td>\n",
              "      <td>705.0</td>\n",
              "      <td>0.0</td>\n",
              "      <td>C1100439041</td>\n",
              "      <td>22425.0</td>\n",
              "      <td>0.00</td>\n",
              "      <td>0</td>\n",
              "      <td>0</td>\n",
              "    </tr>\n",
              "    <tr>\n",
              "      <th>24</th>\n",
              "      <td>1</td>\n",
              "      <td>TRANSFER</td>\n",
              "      <td>311685.89</td>\n",
              "      <td>C1984094095</td>\n",
              "      <td>10835.0</td>\n",
              "      <td>0.0</td>\n",
              "      <td>C932583850</td>\n",
              "      <td>6267.0</td>\n",
              "      <td>2719172.89</td>\n",
              "      <td>0</td>\n",
              "      <td>0</td>\n",
              "    </tr>\n",
              "  </tbody>\n",
              "</table>\n",
              "</div>\n",
              "    <div class=\"colab-df-buttons\">\n",
              "\n",
              "  <div class=\"colab-df-container\">\n",
              "    <button class=\"colab-df-convert\" onclick=\"convertToInteractive('df-071574c4-d65f-47f4-8208-c0be93d2a06b')\"\n",
              "            title=\"Convert this dataframe to an interactive table.\"\n",
              "            style=\"display:none;\">\n",
              "\n",
              "  <svg xmlns=\"http://www.w3.org/2000/svg\" height=\"24px\" viewBox=\"0 -960 960 960\">\n",
              "    <path d=\"M120-120v-720h720v720H120Zm60-500h600v-160H180v160Zm220 220h160v-160H400v160Zm0 220h160v-160H400v160ZM180-400h160v-160H180v160Zm440 0h160v-160H620v160ZM180-180h160v-160H180v160Zm440 0h160v-160H620v160Z\"/>\n",
              "  </svg>\n",
              "    </button>\n",
              "\n",
              "  <style>\n",
              "    .colab-df-container {\n",
              "      display:flex;\n",
              "      gap: 12px;\n",
              "    }\n",
              "\n",
              "    .colab-df-convert {\n",
              "      background-color: #E8F0FE;\n",
              "      border: none;\n",
              "      border-radius: 50%;\n",
              "      cursor: pointer;\n",
              "      display: none;\n",
              "      fill: #1967D2;\n",
              "      height: 32px;\n",
              "      padding: 0 0 0 0;\n",
              "      width: 32px;\n",
              "    }\n",
              "\n",
              "    .colab-df-convert:hover {\n",
              "      background-color: #E2EBFA;\n",
              "      box-shadow: 0px 1px 2px rgba(60, 64, 67, 0.3), 0px 1px 3px 1px rgba(60, 64, 67, 0.15);\n",
              "      fill: #174EA6;\n",
              "    }\n",
              "\n",
              "    .colab-df-buttons div {\n",
              "      margin-bottom: 4px;\n",
              "    }\n",
              "\n",
              "    [theme=dark] .colab-df-convert {\n",
              "      background-color: #3B4455;\n",
              "      fill: #D2E3FC;\n",
              "    }\n",
              "\n",
              "    [theme=dark] .colab-df-convert:hover {\n",
              "      background-color: #434B5C;\n",
              "      box-shadow: 0px 1px 3px 1px rgba(0, 0, 0, 0.15);\n",
              "      filter: drop-shadow(0px 1px 2px rgba(0, 0, 0, 0.3));\n",
              "      fill: #FFFFFF;\n",
              "    }\n",
              "  </style>\n",
              "\n",
              "    <script>\n",
              "      const buttonEl =\n",
              "        document.querySelector('#df-071574c4-d65f-47f4-8208-c0be93d2a06b button.colab-df-convert');\n",
              "      buttonEl.style.display =\n",
              "        google.colab.kernel.accessAllowed ? 'block' : 'none';\n",
              "\n",
              "      async function convertToInteractive(key) {\n",
              "        const element = document.querySelector('#df-071574c4-d65f-47f4-8208-c0be93d2a06b');\n",
              "        const dataTable =\n",
              "          await google.colab.kernel.invokeFunction('convertToInteractive',\n",
              "                                                    [key], {});\n",
              "        if (!dataTable) return;\n",
              "\n",
              "        const docLinkHtml = 'Like what you see? Visit the ' +\n",
              "          '<a target=\"_blank\" href=https://colab.research.google.com/notebooks/data_table.ipynb>data table notebook</a>'\n",
              "          + ' to learn more about interactive tables.';\n",
              "        element.innerHTML = '';\n",
              "        dataTable['output_type'] = 'display_data';\n",
              "        await google.colab.output.renderOutput(dataTable, element);\n",
              "        const docLink = document.createElement('div');\n",
              "        docLink.innerHTML = docLinkHtml;\n",
              "        element.appendChild(docLink);\n",
              "      }\n",
              "    </script>\n",
              "  </div>\n",
              "\n",
              "\n",
              "<div id=\"df-c9e15ff8-5438-470c-925e-381d6634482d\">\n",
              "  <button class=\"colab-df-quickchart\" onclick=\"quickchart('df-c9e15ff8-5438-470c-925e-381d6634482d')\"\n",
              "            title=\"Suggest charts\"\n",
              "            style=\"display:none;\">\n",
              "\n",
              "<svg xmlns=\"http://www.w3.org/2000/svg\" height=\"24px\"viewBox=\"0 0 24 24\"\n",
              "     width=\"24px\">\n",
              "    <g>\n",
              "        <path d=\"M19 3H5c-1.1 0-2 .9-2 2v14c0 1.1.9 2 2 2h14c1.1 0 2-.9 2-2V5c0-1.1-.9-2-2-2zM9 17H7v-7h2v7zm4 0h-2V7h2v10zm4 0h-2v-4h2v4z\"/>\n",
              "    </g>\n",
              "</svg>\n",
              "  </button>\n",
              "\n",
              "<style>\n",
              "  .colab-df-quickchart {\n",
              "      --bg-color: #E8F0FE;\n",
              "      --fill-color: #1967D2;\n",
              "      --hover-bg-color: #E2EBFA;\n",
              "      --hover-fill-color: #174EA6;\n",
              "      --disabled-fill-color: #AAA;\n",
              "      --disabled-bg-color: #DDD;\n",
              "  }\n",
              "\n",
              "  [theme=dark] .colab-df-quickchart {\n",
              "      --bg-color: #3B4455;\n",
              "      --fill-color: #D2E3FC;\n",
              "      --hover-bg-color: #434B5C;\n",
              "      --hover-fill-color: #FFFFFF;\n",
              "      --disabled-bg-color: #3B4455;\n",
              "      --disabled-fill-color: #666;\n",
              "  }\n",
              "\n",
              "  .colab-df-quickchart {\n",
              "    background-color: var(--bg-color);\n",
              "    border: none;\n",
              "    border-radius: 50%;\n",
              "    cursor: pointer;\n",
              "    display: none;\n",
              "    fill: var(--fill-color);\n",
              "    height: 32px;\n",
              "    padding: 0;\n",
              "    width: 32px;\n",
              "  }\n",
              "\n",
              "  .colab-df-quickchart:hover {\n",
              "    background-color: var(--hover-bg-color);\n",
              "    box-shadow: 0 1px 2px rgba(60, 64, 67, 0.3), 0 1px 3px 1px rgba(60, 64, 67, 0.15);\n",
              "    fill: var(--button-hover-fill-color);\n",
              "  }\n",
              "\n",
              "  .colab-df-quickchart-complete:disabled,\n",
              "  .colab-df-quickchart-complete:disabled:hover {\n",
              "    background-color: var(--disabled-bg-color);\n",
              "    fill: var(--disabled-fill-color);\n",
              "    box-shadow: none;\n",
              "  }\n",
              "\n",
              "  .colab-df-spinner {\n",
              "    border: 2px solid var(--fill-color);\n",
              "    border-color: transparent;\n",
              "    border-bottom-color: var(--fill-color);\n",
              "    animation:\n",
              "      spin 1s steps(1) infinite;\n",
              "  }\n",
              "\n",
              "  @keyframes spin {\n",
              "    0% {\n",
              "      border-color: transparent;\n",
              "      border-bottom-color: var(--fill-color);\n",
              "      border-left-color: var(--fill-color);\n",
              "    }\n",
              "    20% {\n",
              "      border-color: transparent;\n",
              "      border-left-color: var(--fill-color);\n",
              "      border-top-color: var(--fill-color);\n",
              "    }\n",
              "    30% {\n",
              "      border-color: transparent;\n",
              "      border-left-color: var(--fill-color);\n",
              "      border-top-color: var(--fill-color);\n",
              "      border-right-color: var(--fill-color);\n",
              "    }\n",
              "    40% {\n",
              "      border-color: transparent;\n",
              "      border-right-color: var(--fill-color);\n",
              "      border-top-color: var(--fill-color);\n",
              "    }\n",
              "    60% {\n",
              "      border-color: transparent;\n",
              "      border-right-color: var(--fill-color);\n",
              "    }\n",
              "    80% {\n",
              "      border-color: transparent;\n",
              "      border-right-color: var(--fill-color);\n",
              "      border-bottom-color: var(--fill-color);\n",
              "    }\n",
              "    90% {\n",
              "      border-color: transparent;\n",
              "      border-bottom-color: var(--fill-color);\n",
              "    }\n",
              "  }\n",
              "</style>\n",
              "\n",
              "  <script>\n",
              "    async function quickchart(key) {\n",
              "      const quickchartButtonEl =\n",
              "        document.querySelector('#' + key + ' button');\n",
              "      quickchartButtonEl.disabled = true;  // To prevent multiple clicks.\n",
              "      quickchartButtonEl.classList.add('colab-df-spinner');\n",
              "      try {\n",
              "        const charts = await google.colab.kernel.invokeFunction(\n",
              "            'suggestCharts', [key], {});\n",
              "      } catch (error) {\n",
              "        console.error('Error during call to suggestCharts:', error);\n",
              "      }\n",
              "      quickchartButtonEl.classList.remove('colab-df-spinner');\n",
              "      quickchartButtonEl.classList.add('colab-df-quickchart-complete');\n",
              "    }\n",
              "    (() => {\n",
              "      let quickchartButtonEl =\n",
              "        document.querySelector('#df-c9e15ff8-5438-470c-925e-381d6634482d button');\n",
              "      quickchartButtonEl.style.display =\n",
              "        google.colab.kernel.accessAllowed ? 'block' : 'none';\n",
              "    })();\n",
              "  </script>\n",
              "</div>\n",
              "\n",
              "    </div>\n",
              "  </div>\n"
            ],
            "application/vnd.google.colaboratory.intrinsic+json": {
              "type": "dataframe",
              "variable_name": "X"
            }
          },
          "metadata": {},
          "execution_count": 26
        }
      ]
    },
    {
      "cell_type": "markdown",
      "source": [
        "### What all manipulations have you done and insights you found?"
      ],
      "metadata": {
        "id": "MSa1f5Uengrz"
      }
    },
    {
      "cell_type": "markdown",
      "source": [
        "Can isFlaggedFraud be set based on seeing a customer transacting more than once? Note that duplicate customer names don't exist within\n",
        "\n",
        "*Transactions where 'isFlaggedFraud' is set, but duplicate customer names exist within transactions where 'isFlaggedFraud' is not set. It turns out that originators of transactions that have 'isFlaggedFraud' set have transacted only once, very few destination accounts of transactions that have 'isFlaggedFraud' set have transacted more than once.*"
      ],
      "metadata": {
        "id": "LbyXE7I1olp8"
      }
    },
    {
      "cell_type": "markdown",
      "source": [
        "## ***4. Data Vizualization, Storytelling & Experimenting with charts : Understand the relationships between variables***"
      ],
      "metadata": {
        "id": "GF8Ens_Soomf"
      }
    },
    {
      "cell_type": "markdown",
      "source": [
        "**UNIVARIATE ANALYSIS**"
      ],
      "metadata": {
        "id": "fCP-BhJmpAww"
      }
    },
    {
      "cell_type": "markdown",
      "source": [
        "#### Chart - 1"
      ],
      "metadata": {
        "id": "0wOQAZs5pc--"
      }
    },
    {
      "cell_type": "code",
      "source": [
        "# Chart - 1 visualization code\n",
        "plt.figure(figsize=(13, 8))\n",
        "ax=sns.countplot(x='type', data=df_fraud)\n",
        "for container in ax.containers:\n",
        "    ax.bar_label(container)\n",
        "plt.title('Count plot of transaction type')\n",
        "plt.xlabel('Transaction Type')\n",
        "plt.ylabel('Number of transactions')\n",
        "plt.show()"
      ],
      "metadata": {
        "id": "7v_ESjsspbW7",
        "colab": {
          "base_uri": "https://localhost:8080/",
          "height": 728
        },
        "outputId": "c470f3e9-edcc-4156-f8b3-2403d1267c0a"
      },
      "execution_count": null,
      "outputs": [
        {
          "output_type": "display_data",
          "data": {
            "text/plain": [
              "<Figure size 1300x800 with 1 Axes>"
            ],
            "image/png": "[encoded data removed]"
          },
          "metadata": {}
        }
      ]
    },
    {
      "cell_type": "markdown",
      "source": [
        "##### 1. Why did you pick the specific chart?"
      ],
      "metadata": {
        "id": "K5QZ13OEpz2H"
      }
    },
    {
      "cell_type": "markdown",
      "source": [
        "*A count plot is used in data visualization to display the frequency of occurrence of each category in a categorical variable. It is a type of bar plot where the height of each bar represents the number of observations in each category.*"
      ],
      "metadata": {
        "id": "XESiWehPqBRc"
      }
    },
    {
      "cell_type": "markdown",
      "source": [
        "##### 2. What is/are the insight(s) found from the chart?"
      ],
      "metadata": {
        "id": "lQ7QKXXCp7Bj"
      }
    },
    {
      "cell_type": "markdown",
      "source": [
        "*Cash out is the most numerous transaction type, followed by payment, cash in, transfer and debit types.*"
      ],
      "metadata": {
        "id": "C_j1G7yiqdRP"
      }
    },
    {
      "cell_type": "markdown",
      "source": [
        "#### Chart - 2"
      ],
      "metadata": {
        "id": "KSlN3yHqYklG"
      }
    },
    {
      "cell_type": "code",
      "source": [
        "# Chart - 2 visualization code\n",
        "plt.figure(figsize=(13,6))\n",
        "df_fraud['isFraud'].value_counts().plot(kind='pie', autopct=\"%1.1f%%\", labels=['Not a Fraud', 'Fraud'])\n",
        "plt.axis('off')\n",
        "plt.title('Frauds amongst the customers')\n",
        "plt.legend()\n",
        "plt.show()"
      ],
      "metadata": {
        "id": "R4YgtaqtYklH",
        "colab": {
          "base_uri": "https://localhost:8080/",
          "height": 521
        },
        "outputId": "2fe596aa-ff6b-45f4-8158-9e096510a1a2"
      },
      "execution_count": null,
      "outputs": [
        {
          "output_type": "display_data",
          "data": {
            "text/plain": [
              "<Figure size 1300x600 with 1 Axes>"
            ],
            "image/png": "[encoded data removed]"
          },
          "metadata": {}
        }
      ]
    },
    {
      "cell_type": "markdown",
      "source": [
        "##### 1. Why did you pick the specific chart?"
      ],
      "metadata": {
        "id": "t6dVpIINYklI"
      }
    },
    {
      "cell_type": "markdown",
      "source": [
        "*Pie chart is good to see proportions so here Fraud vs Non-Fraud is being shown*"
      ],
      "metadata": {
        "id": "5aaW0BYyYklI"
      }
    },
    {
      "cell_type": "markdown",
      "source": [
        "##### 2. What is/are the insight(s) found from the chart?"
      ],
      "metadata": {
        "id": "ijmpgYnKYklI"
      }
    },
    {
      "cell_type": "markdown",
      "source": [
        "*Fraud percentage is very few in this data yet we need to take care of this*"
      ],
      "metadata": {
        "id": "PSx9atu2YklI"
      }
    },
    {
      "cell_type": "markdown",
      "source": [
        "#### Chart - 3"
      ],
      "metadata": {
        "id": "EM7whBJCYoAo"
      }
    },
    {
      "cell_type": "code",
      "source": [
        "# Chart - 3 visualization code\n",
        "plt.figure(figsize=(13,6))\n",
        "df_fraud['isFlaggedFraud'].value_counts().plot(kind='pie', autopct=\"%1.1f%%\", labels=['Not a Fraud', 'Fraud'], colors=['lightgreen', 'yellow'])\n",
        "plt.axis('off')\n",
        "plt.title('Flagged frauds amongst the customers')\n",
        "plt.legend()\n",
        "plt.show()"
      ],
      "metadata": {
        "id": "t6GMdE67YoAp",
        "colab": {
          "base_uri": "https://localhost:8080/",
          "height": 521
        },
        "outputId": "c2b108ff-9acc-4f4d-fee1-95142e061343"
      },
      "execution_count": null,
      "outputs": [
        {
          "output_type": "display_data",
          "data": {
            "text/plain": [
              "<Figure size 1300x600 with 1 Axes>"
            ],
            "image/png": "[encoded data removed]"
          },
          "metadata": {}
        }
      ]
    },
    {
      "cell_type": "markdown",
      "source": [
        "##### 1. Why did you pick the specific chart?"
      ],
      "metadata": {
        "id": "fge-S5ZAYoAp"
      }
    },
    {
      "cell_type": "markdown",
      "source": [
        "*Pie chart are good for proportion mentioning here Flagged fraud vs Non-Flagges Fraud is being plotted*"
      ],
      "metadata": {
        "id": "5dBItgRVYoAp"
      }
    },
    {
      "cell_type": "markdown",
      "source": [
        "##### 2. What is/are the insight(s) found from the chart?"
      ],
      "metadata": {
        "id": "85gYPyotYoAp"
      }
    },
    {
      "cell_type": "markdown",
      "source": [
        "*Flagged fraud percentage is very less here which means potentially fraudulent transactions, which can then be flagged for further investigation and manual review are less in count*"
      ],
      "metadata": {
        "id": "4jstXR6OYoAp"
      }
    },
    {
      "cell_type": "markdown",
      "source": [
        "**BIVARIATE ANALYSIS**"
      ],
      "metadata": {
        "id": "zPKVyLNcENPV"
      }
    },
    {
      "cell_type": "markdown",
      "source": [
        "#### Chart - 4"
      ],
      "metadata": {
        "id": "4Of9eVA-YrdM"
      }
    },
    {
      "cell_type": "code",
      "source": [
        "# Chart - 4 visualization code\n",
        "plt.figure(figsize=(13, 6))\n",
        "df_fraudulent=df_fraud[df_fraud['isFraud']==1]\n",
        "top_steps=df_fraudulent['step'].value_counts().head(10)\n",
        "ax=top_steps.plot(kind='bar', color='purple')\n",
        "for container in ax.containers:\n",
        "    ax.bar_label(container)\n",
        "plt.title('Top 10 steps that often lead to fraudulent transactions')\n",
        "plt.ylabel('Number of fraudulent transactions')\n",
        "plt.xlabel('Step')\n",
        "plt.xticks(rotation=0)\n",
        "plt.grid(axis='x')\n",
        "plt.show()\n",
        "\n",
        "del ax, top_steps"
      ],
      "metadata": {
        "id": "irlUoxc8YrdO",
        "colab": {
          "base_uri": "https://localhost:8080/",
          "height": 573
        },
        "outputId": "b71836f0-12cc-4ea1-b09e-4539c264774f"
      },
      "execution_count": null,
      "outputs": [
        {
          "output_type": "display_data",
          "data": {
            "text/plain": [
              "<Figure size 1300x600 with 1 Axes>"
            ],
            "image/png": "[encoded data removed]"
          },
          "metadata": {}
        }
      ]
    },
    {
      "cell_type": "markdown",
      "source": [
        "##### 1. Why did you pick the specific chart?"
      ],
      "metadata": {
        "id": "iky9q4vBYrdO"
      }
    },
    {
      "cell_type": "markdown",
      "source": [
        "*Count plots, also known simply as bar plots or bar charts, are used primarily to visualize the frequency or count of categorical data but not restricted so numerical data can also be seen.*"
      ],
      "metadata": {
        "id": "aJRCwT6DYrdO"
      }
    },
    {
      "cell_type": "markdown",
      "source": [
        "##### 2. What is/are the insight(s) found from the chart?"
      ],
      "metadata": {
        "id": "F6T5p64dYrdO"
      }
    },
    {
      "cell_type": "markdown",
      "source": [
        "*Step 212 has the highest number of fraudulent transactions, 40 cases. This indicates that Step 212 is the step that will most likely lead to fraudulent transactions.*"
      ],
      "metadata": {
        "id": "Xx8WAJvtYrdO"
      }
    },
    {
      "cell_type": "markdown",
      "source": [
        "#### Chart - 5"
      ],
      "metadata": {
        "id": "bamQiAODYuh1"
      }
    },
    {
      "cell_type": "code",
      "source": [
        "# Chart - 5 visualization code\n",
        "df_frauds=df_fraud.copy()"
      ],
      "metadata": {
        "id": "TIJwrbroYuh3"
      },
      "execution_count": null,
      "outputs": []
    },
    {
      "cell_type": "code",
      "source": [
        "# Create bins and labels for 'amount' column\n",
        "bins= pd.cut(df_frauds['amount'], bins=5, labels=['very low', 'low', 'moderate', 'high', 'very high'])\n",
        "df_frauds['quantity']=bins\n",
        "plt.figure(figsize=(13, 6))\n",
        "ax=sns.countplot(x='quantity', data=df_frauds, hue='isFraud', palette='pastel')\n",
        "for container in ax.containers:\n",
        "    ax.bar_label(container)\n",
        "plt.title('Count plot of amount quantity')\n",
        "plt.ylabel('Number of transactions')\n",
        "plt.xlabel('Qyantity')\n",
        "plt.legend(bbox_to_anchor=(1.05, 1), loc='upper left')\n",
        "plt.show()"
      ],
      "metadata": {
        "colab": {
          "base_uri": "https://localhost:8080/",
          "height": 573
        },
        "id": "Y9k4-GEYCInU",
        "outputId": "eee126ed-c4e5-4ce4-a6bd-78037f5887c5"
      },
      "execution_count": null,
      "outputs": [
        {
          "output_type": "display_data",
          "data": {
            "text/plain": [
              "<Figure size 1300x600 with 1 Axes>"
            ],
            "image/png": "[encoded data removed]"
          },
          "metadata": {}
        }
      ]
    },
    {
      "cell_type": "markdown",
      "source": [
        "##### 1. Why did you pick the specific chart?"
      ],
      "metadata": {
        "id": "QHF8YVU7Yuh3"
      }
    },
    {
      "cell_type": "markdown",
      "source": [
        "*Simply as bar plots or bar charts, are used primarily to visualize the frequency or count of Numerical data.*"
      ],
      "metadata": {
        "id": "dcxuIMRPYuh3"
      }
    },
    {
      "cell_type": "markdown",
      "source": [
        "##### 2. What is/are the insight(s) found from the chart?"
      ],
      "metadata": {
        "id": "GwzvFGzlYuh3"
      }
    },
    {
      "cell_type": "markdown",
      "source": [
        "*All fraudulent transactions fall into the category of very low amounts. This suggests that in most cases, small transactions are more prone to fraudulent transactions.*"
      ],
      "metadata": {
        "id": "uyqkiB8YYuh3"
      }
    },
    {
      "cell_type": "markdown",
      "source": [
        "#### Chart - 6"
      ],
      "metadata": {
        "id": "OH-pJp9IphqM"
      }
    },
    {
      "cell_type": "code",
      "source": [
        "# Chart - 6 visualization code\n",
        "bins=pd.cut(df_fraud['oldbalanceOrg'], bins=5, labels=['very low', 'low', 'moderate', 'high', 'very high'])\n",
        "df_frauds['oldbalanceOrg_amt']=bins\n",
        "plt.figure(figsize=(13, 6))\n",
        "ax=sns.countplot(x='oldbalanceOrg_amt', data=df_frauds, hue='isFraud', palette='dark')\n",
        "for container in ax.containers:\n",
        "    ax.bar_label(container)\n",
        "plt.title('Count plot of initial customers pre-transaction balance amount')\n",
        "plt.ylabel('Number of transactions')\n",
        "plt.xlabel('Initial customers pre-transaction balance amount')\n",
        "plt.legend(bbox_to_anchor=(1.05,1), loc='upper left')\n",
        "plt.show()"
      ],
      "metadata": {
        "id": "kuRf4wtuphqN",
        "colab": {
          "base_uri": "https://localhost:8080/",
          "height": 573
        },
        "outputId": "7c09cc39-fb94-4b63-9e25-8e6bff95c907"
      },
      "execution_count": null,
      "outputs": [
        {
          "output_type": "display_data",
          "data": {
            "text/plain": [
              "<Figure size 1300x600 with 1 Axes>"
            ],
            "image/png": "[encoded data removed]"
          },
          "metadata": {}
        }
      ]
    },
    {
      "cell_type": "markdown",
      "source": [
        "##### 1. Why did you pick the specific chart?"
      ],
      "metadata": {
        "id": "bbFf2-_FphqN"
      }
    },
    {
      "cell_type": "markdown",
      "source": [
        "*Simply as bar plots or bar charts, are used primarily to visualize the frequency or count of Numerical data.*"
      ],
      "metadata": {
        "id": "loh7H2nzphqN"
      }
    },
    {
      "cell_type": "markdown",
      "source": [
        "##### 2. What is/are the insight(s) found from the chart?"
      ],
      "metadata": {
        "id": "_ouA3fa0phqN"
      }
    },
    {
      "cell_type": "markdown",
      "source": [
        "*Initial customers with very low pre-transaction balances has the highest number of fraudulent transactions. This means that initial customers with very low pre-transaction balances may be more likely to fall for a fraudulent transaction.*"
      ],
      "metadata": {
        "id": "VECbqPI7phqN"
      }
    },
    {
      "cell_type": "markdown",
      "source": [
        "#### Chart - 7"
      ],
      "metadata": {
        "id": "PIIx-8_IphqN"
      }
    },
    {
      "cell_type": "code",
      "source": [
        "# Chart - 7 visualization code\n",
        "bins=pd.cut(df_fraud['oldbalanceDest'], bins=5, labels=['very low', 'low', 'moderate', 'high', 'very high'])\n",
        "df_frauds['oldbalanceDest_amt']=bins\n",
        "plt.figure(figsize=(13, 6))\n",
        "ax=sns.countplot(x='oldbalanceDest_amt', data=df_frauds, hue='isFraud', palette='bright')\n",
        "for container in ax.containers:\n",
        "    ax.bar_label(container)\n",
        "plt.title('Count plot of recipients pre-transaction balance amount')\n",
        "plt.ylabel('Number of transactions')\n",
        "plt.xlabel('Recipient pre-transaction balance amount')\n",
        "plt.legend(bbox_to_anchor=(1.05,1), loc='upper left')\n",
        "plt.show()"
      ],
      "metadata": {
        "id": "lqAIGUfyphqO",
        "colab": {
          "base_uri": "https://localhost:8080/",
          "height": 573
        },
        "outputId": "2f02033b-491f-4fe3-dcf0-8ecca330c6b1"
      },
      "execution_count": null,
      "outputs": [
        {
          "output_type": "display_data",
          "data": {
            "text/plain": [
              "<Figure size 1300x600 with 1 Axes>"
            ],
            "image/png": "[encoded data removed]"
          },
          "metadata": {}
        }
      ]
    },
    {
      "cell_type": "markdown",
      "source": [
        "##### 1. Why did you pick the specific chart?"
      ],
      "metadata": {
        "id": "t27r6nlMphqO"
      }
    },
    {
      "cell_type": "markdown",
      "source": [
        "*Simply as bar plots or bar charts, are used primarily to visualize the frequency or count of Numerical data.*"
      ],
      "metadata": {
        "id": "iv6ro40sphqO"
      }
    },
    {
      "cell_type": "markdown",
      "source": [
        "##### 2. What is/are the insight(s) found from the chart?"
      ],
      "metadata": {
        "id": "r2jJGEOYphqO"
      }
    },
    {
      "cell_type": "markdown",
      "source": [
        "*Recipients with very low pre-transaction balances has the highest number of fraudulent transactions. This implies that recipients with very low pre-transaction balances may be more susceptible to fraudulent transactions.*"
      ],
      "metadata": {
        "id": "Po6ZPi4hphqO"
      }
    },
    {
      "cell_type": "markdown",
      "source": [
        "#### Chart - 8"
      ],
      "metadata": {
        "id": "BZR9WyysphqO"
      }
    },
    {
      "cell_type": "code",
      "source": [
        "# Chart - 8 visualization code\n",
        "plt.figure(figsize=(13, 6))\n",
        "count_initial_customers=df_fraud['nameOrig'].value_counts().head(10)\n",
        "ax=count_initial_customers.plot(kind='bar', color='orange')\n",
        "for container in ax.containers:\n",
        "    ax.bar_label(container)\n",
        "plt.title('Top 10 initial customers fall for a fraudulent transactions')\n",
        "plt.ylabel('Number of fraudulent transactions')\n",
        "plt.xlabel('Initial customers')\n",
        "plt.grid(axis='x')\n",
        "plt.show()\n",
        "\n",
        "del ax, count_initial_customers"
      ],
      "metadata": {
        "id": "TdPTWpAVphqO",
        "colab": {
          "base_uri": "https://localhost:8080/",
          "height": 665
        },
        "outputId": "2f0db9f2-be99-465a-b6ea-ebca2b6caf18"
      },
      "execution_count": null,
      "outputs": [
        {
          "output_type": "display_data",
          "data": {
            "text/plain": [
              "<Figure size 1300x600 with 1 Axes>"
            ],
            "image/png": "[encoded data removed]"
          },
          "metadata": {}
        }
      ]
    },
    {
      "cell_type": "markdown",
      "source": [
        "##### 1. Why did you pick the specific chart?"
      ],
      "metadata": {
        "id": "jj7wYXLtphqO"
      }
    },
    {
      "cell_type": "markdown",
      "source": [
        "*Simply as bar plots or bar charts, are used primarily to visualize the frequency or count of Numerical data.*"
      ],
      "metadata": {
        "id": "Ob8u6rCTphqO"
      }
    },
    {
      "cell_type": "markdown",
      "source": [
        "##### 2. What is/are the insight(s) found from the chart?"
      ],
      "metadata": {
        "id": "eZrbJ2SmphqO"
      }
    },
    {
      "cell_type": "markdown",
      "source": [
        "*Initial customers are scammed of at most one for a fraudulent transaction.*\n"
      ],
      "metadata": {
        "id": "mZtgC_hjphqO"
      }
    },
    {
      "cell_type": "markdown",
      "source": [
        "#### Chart - 9"
      ],
      "metadata": {
        "id": "YJ55k-q6phqO"
      }
    },
    {
      "cell_type": "code",
      "source": [
        "# Chart - 9 visualization code\n",
        "plt.figure(figsize=(13, 6))\n",
        "df2=df_fraud['nameDest'].value_counts().head(10)\n",
        "ax=df2.plot(kind='bar', color='lightsteelblue')\n",
        "for container in ax.containers:\n",
        "    ax.bar_label(container)\n",
        "plt.title('Top 10 recipients highly involved in fraudulent transactions')\n",
        "plt.ylabel('Number of fraudulent transactions')\n",
        "plt.xlabel('Recipients')\n",
        "plt.grid(axis='x')\n",
        "plt.show()\n",
        "\n",
        "del ax, df2"
      ],
      "metadata": {
        "id": "B2aS4O1ophqO",
        "colab": {
          "base_uri": "https://localhost:8080/",
          "height": 665
        },
        "outputId": "e836a4e1-5d3d-43b5-c0b9-1b44de75390c"
      },
      "execution_count": null,
      "outputs": [
        {
          "output_type": "display_data",
          "data": {
            "text/plain": [
              "<Figure size 1300x600 with 1 Axes>"
            ],
            "image/png": "[encoded data removed]"
          },
          "metadata": {}
        }
      ]
    },
    {
      "cell_type": "markdown",
      "source": [
        "##### 1. Why did you pick the specific chart?"
      ],
      "metadata": {
        "id": "gCFgpxoyphqP"
      }
    },
    {
      "cell_type": "markdown",
      "source": [
        "*Simply as bar plots or bar charts, are used primarily to visualize the frequency or count of Numerical data.*"
      ],
      "metadata": {
        "id": "TVxDimi2phqP"
      }
    },
    {
      "cell_type": "markdown",
      "source": [
        "##### 2. What is/are the insight(s) found from the chart?"
      ],
      "metadata": {
        "id": "OVtJsKN_phqQ"
      }
    },
    {
      "cell_type": "markdown",
      "source": [
        "*Suspicious recipients only have a maximum of 2 involved fraudulent transactions.*"
      ],
      "metadata": {
        "id": "ngGi97qjphqQ"
      }
    },
    {
      "cell_type": "markdown",
      "source": [
        "**MULTIVARIATE ANALYSIS**"
      ],
      "metadata": {
        "id": "Ys0WZwW6IKzJ"
      }
    },
    {
      "cell_type": "markdown",
      "source": [
        "#### Chart - 14 - Correlation Heatmap"
      ],
      "metadata": {
        "id": "NC_X3p0fY2L0"
      }
    },
    {
      "cell_type": "code",
      "source": [
        "# Correlation Heatmap visualization code\n",
        "corr_matrix=df_fraud.select_dtypes(include=['number']).corr()\n",
        "plt.figure(figsize=(12, 8))\n",
        "sns.heatmap(corr_matrix, annot=True, mask = np.triu(np.ones_like(corr_matrix, dtype=bool)), fmt='.3f', vmin=-1, vmax=1)\n",
        "plt.title('Correlation')\n",
        "plt.show()"
      ],
      "metadata": {
        "id": "xyC9zolEZNRQ",
        "colab": {
          "base_uri": "https://localhost:8080/",
          "height": 815
        },
        "outputId": "34ba651a-92a8-4ffa-ca5e-af59f9e3d93d"
      },
      "execution_count": null,
      "outputs": [
        {
          "output_type": "display_data",
          "data": {
            "text/plain": [
              "<Figure size 1200x800 with 2 Axes>"
            ],
            "image/png": "[encoded data removed]"
          },
          "metadata": {}
        }
      ]
    },
    {
      "cell_type": "markdown",
      "source": [
        "##### 1. Why did you pick the specific chart?"
      ],
      "metadata": {
        "id": "UV0SzAkaZNRQ"
      }
    },
    {
      "cell_type": "markdown",
      "source": [
        "*Correlation heat maps are used to visualize the correlation matrix of variables in a dataset.*"
      ],
      "metadata": {
        "id": "DVPuT8LYZNRQ"
      }
    },
    {
      "cell_type": "markdown",
      "source": [
        "##### 2. What is/are the insight(s) found from the chart?"
      ],
      "metadata": {
        "id": "YPEH6qLeZNRQ"
      }
    },
    {
      "cell_type": "markdown",
      "source": [
        "*  *OldbalanceOrg and newbalanceOrig has strong positive relationship.*\n",
        "*  *OldbalanceDest and newbalanceDest has strong positive relationship.*\n",
        "*  *OldbalanceOrg and amount has weak positive relationship.*\n",
        "*  *NewbalanceOrig and amount has moderate positive relationship.*"
      ],
      "metadata": {
        "id": "bfSqtnDqZNRR"
      }
    },
    {
      "cell_type": "markdown",
      "source": [
        "#### Chart - 15 - Pair Plot"
      ],
      "metadata": {
        "id": "q29F0dvdveiT"
      }
    },
    {
      "cell_type": "code",
      "source": [
        "# Pair Plot visualization code\n",
        "sns.pairplot(df_fraud, hue='isFraud')\n",
        "plt.show()"
      ],
      "metadata": {
        "id": "o58-TEIhveiU"
      },
      "execution_count": null,
      "outputs": []
    },
    {
      "cell_type": "markdown",
      "source": [
        "##### 1. Why did you pick the specific chart?"
      ],
      "metadata": {
        "id": "EXh0U9oCveiU"
      }
    },
    {
      "cell_type": "markdown",
      "source": [
        "Answer Here."
      ],
      "metadata": {
        "id": "eMmPjTByveiU"
      }
    },
    {
      "cell_type": "markdown",
      "source": [
        "##### 2. What is/are the insight(s) found from the chart?"
      ],
      "metadata": {
        "id": "22aHeOlLveiV"
      }
    },
    {
      "cell_type": "markdown",
      "source": [
        "Answer Here"
      ],
      "metadata": {
        "id": "uPQ8RGwHveiV"
      }
    },
    {
      "cell_type": "markdown",
      "source": [
        "## ***6. Feature Engineering & Data Pre-processing***"
      ],
      "metadata": {
        "id": "yLjJCtPM0KBk"
      }
    },
    {
      "cell_type": "markdown",
      "source": [
        "### 1. Handling Missing Values"
      ],
      "metadata": {
        "id": "xiyOF9F70UgQ"
      }
    },
    {
      "cell_type": "code",
      "source": [
        "# Handling Missing Values & Missing Value Imputation\n",
        "df_fraud.isnull().sum()"
      ],
      "metadata": {
        "id": "iRsAHk1K0fpS",
        "colab": {
          "base_uri": "https://localhost:8080/"
        },
        "outputId": "2c3f60a8-ef70-43d7-b276-16a076aebc71"
      },
      "execution_count": null,
      "outputs": [
        {
          "output_type": "execute_result",
          "data": {
            "text/plain": [
              "step              0\n",
              "type              0\n",
              "amount            0\n",
              "nameOrig          0\n",
              "oldbalanceOrg     0\n",
              "newbalanceOrig    0\n",
              "nameDest          0\n",
              "oldbalanceDest    0\n",
              "newbalanceDest    0\n",
              "isFraud           0\n",
              "isFlaggedFraud    0\n",
              "dtype: int64"
            ]
          },
          "metadata": {},
          "execution_count": 30
        }
      ]
    },
    {
      "cell_type": "markdown",
      "source": [
        "#### What all missing value imputation techniques have you used and why did you use those techniques?"
      ],
      "metadata": {
        "id": "7wuGOrhz0itI"
      }
    },
    {
      "cell_type": "markdown",
      "source": [
        "No null values are there"
      ],
      "metadata": {
        "id": "1ixusLtI0pqI"
      }
    },
    {
      "cell_type": "markdown",
      "source": [
        "### 2. Handling Outliers"
      ],
      "metadata": {
        "id": "id1riN9m0vUs"
      }
    },
    {
      "cell_type": "code",
      "source": [
        "# Handling Outliers & Outlier treatments\n",
        "plt.figure(figsize=(15,6))\n",
        "numerical_col=['step',\t'type',\t'amount',\t'oldbalanceOrg',\t'newbalanceOrig',\t'oldbalanceDest',\t'newbalanceDest',\t'isFlaggedFraud']\n",
        "X.boxplot(numerical_col)\n",
        "plt.show()"
      ],
      "metadata": {
        "id": "M6w2CzZf04JK",
        "colab": {
          "base_uri": "https://localhost:8080/",
          "height": 543
        },
        "outputId": "46259a3c-0caf-4502-f4ed-e2cfe5d2aad7"
      },
      "execution_count": null,
      "outputs": [
        {
          "output_type": "display_data",
          "data": {
            "text/plain": [
              "<Figure size 1500x600 with 1 Axes>"
            ],
            "image/png": "[encoded data removed]"
          },
          "metadata": {}
        }
      ]
    },
    {
      "cell_type": "code",
      "source": [
        "# Outer Fence\n",
        "def outlier_treatment_skew(df,feature):\n",
        "  IQR=X[feature].quantile(0.75)-X[feature].quantile(0.25)\n",
        "  lower_bridge=X[feature].quantile(0.25)-1.5*IQR\n",
        "  upper_bridge=X[feature].quantile(0.75)+1.5*IQR\n",
        "  return upper_bridge,lower_bridge"
      ],
      "metadata": {
        "id": "Rr2-uNQqrj5t"
      },
      "execution_count": null,
      "outputs": []
    },
    {
      "cell_type": "code",
      "source": [
        "# Restricting the data to lower and upper boundry\n",
        "for feature in numerical_col:\n",
        "  X.loc[X[feature]<=outlier_treatment_skew(df=X,feature=feature)[1], feature]=outlier_treatment_skew(df=X,feature=feature)[1]\n",
        "  X.loc[X[feature]>=outlier_treatment_skew(df=X,feature=feature)[0], feature]=outlier_treatment_skew(df=X,feature=feature)[0]"
      ],
      "metadata": {
        "id": "RXRjbbx2rpXq"
      },
      "execution_count": null,
      "outputs": []
    },
    {
      "cell_type": "code",
      "source": [
        "# After outlier treatment\n",
        "plt.figure(figsize=(15,6))\n",
        "numerical_col=['step',\t'type',\t'amount',\t'oldbalanceOrg',\t'newbalanceOrig',\t'oldbalanceDest',\t'newbalanceDest',\t'isFlaggedFraud']\n",
        "X.boxplot(numerical_col)\n",
        "plt.show()"
      ],
      "metadata": {
        "colab": {
          "base_uri": "https://localhost:8080/",
          "height": 543
        },
        "id": "BzJkGCAksEN1",
        "outputId": "56859f6f-0e35-4f17-a0bf-cc5bd3aae41b"
      },
      "execution_count": null,
      "outputs": [
        {
          "output_type": "display_data",
          "data": {
            "text/plain": [
              "<Figure size 1500x600 with 1 Axes>"
            ],
            "image/png": "[encoded data removed]"
          },
          "metadata": {}
        }
      ]
    },
    {
      "cell_type": "markdown",
      "source": [
        "### 3. Categorical Encoding"
      ],
      "metadata": {
        "id": "89xtkJwZ18nB"
      }
    },
    {
      "cell_type": "code",
      "source": [
        "# Encode your categorical columns\n",
        "# Label encoding for the transaction type\n",
        "X['type'].replace('TRANSFER', 0, inplace=True)\n",
        "X['type'].replace('CASH_OUT', 1, inplace=True)"
      ],
      "metadata": {
        "id": "21JmIYMG2hEo",
        "colab": {
          "base_uri": "https://localhost:8080/"
        },
        "outputId": "3d89ee2e-25b9-40d5-c67e-cc5bb4f2d270"
      },
      "execution_count": null,
      "outputs": [
        {
          "output_type": "stream",
          "name": "stderr",
          "text": [
            "<ipython-input-100-8bcbf69f9c39>:3: SettingWithCopyWarning: \n",
            "A value is trying to be set on a copy of a slice from a DataFrame\n",
            "\n",
            "See the caveats in the documentation: https://pandas.pydata.org/pandas-docs/stable/user_guide/indexing.html#returning-a-view-versus-a-copy\n",
            "  X['type'].replace('TRANSFER', 0, inplace=True)\n",
            "<ipython-input-100-8bcbf69f9c39>:4: SettingWithCopyWarning: \n",
            "A value is trying to be set on a copy of a slice from a DataFrame\n",
            "\n",
            "See the caveats in the documentation: https://pandas.pydata.org/pandas-docs/stable/user_guide/indexing.html#returning-a-view-versus-a-copy\n",
            "  X['type'].replace('CASH_OUT', 1, inplace=True)\n"
          ]
        }
      ]
    },
    {
      "cell_type": "markdown",
      "source": [
        "#### What all categorical encoding techniques have you used & why did you use those techniques?"
      ],
      "metadata": {
        "id": "67NQN5KX2AMe"
      }
    },
    {
      "cell_type": "markdown",
      "source": [
        "*Label encoding. It is a method used in machine learning to convert categorical data into numerical data, which can be easily processed by machine learning algorithms.*"
      ],
      "metadata": {
        "id": "UDaue5h32n_G"
      }
    },
    {
      "cell_type": "markdown",
      "source": [
        "### 4. Feature Manipulation & Selection"
      ],
      "metadata": {
        "id": "-oLEiFgy-5Pf"
      }
    },
    {
      "cell_type": "markdown",
      "source": [
        "#### 1. Feature Manipulation"
      ],
      "metadata": {
        "id": "C74aWNz2AliB"
      }
    },
    {
      "cell_type": "code",
      "source": [
        "# Manipulate Features to minimize feature correlation and create new features\n",
        "# Removing unwanted columns\n",
        "X=df_fraud.drop(['nameDest','nameOrig'], axis=1, inplace=True)"
      ],
      "metadata": {
        "id": "h1qC4yhBApWC"
      },
      "execution_count": null,
      "outputs": []
    },
    {
      "cell_type": "markdown",
      "source": [
        "#### 2. Feature Selection"
      ],
      "metadata": {
        "id": "2DejudWSA-a0"
      }
    },
    {
      "cell_type": "code",
      "source": [
        "# Select your features wisely to avoid overfitting\n",
        "X['errorBalanceOrig']=X.newbalanceOrig+X.amount-X.oldbalanceOrg\n",
        "X['errorBalanceDest']=X.oldbalanceDest+X.amount-X.newbalanceDest"
      ],
      "metadata": {
        "id": "YLhe8UmaBCEE",
        "colab": {
          "base_uri": "https://localhost:8080/"
        },
        "outputId": "e045b6d2-fe78-45bd-a420-38387df04609"
      },
      "execution_count": null,
      "outputs": [
        {
          "output_type": "stream",
          "name": "stderr",
          "text": [
            "<ipython-input-102-8948bfa8cfff>:2: SettingWithCopyWarning: \n",
            "A value is trying to be set on a copy of a slice from a DataFrame.\n",
            "Try using .loc[row_indexer,col_indexer] = value instead\n",
            "\n",
            "See the caveats in the documentation: https://pandas.pydata.org/pandas-docs/stable/user_guide/indexing.html#returning-a-view-versus-a-copy\n",
            "  X['errorBalanceOrig']=X.newbalanceOrig+X.amount-X.oldbalanceOrg\n",
            "<ipython-input-102-8948bfa8cfff>:3: SettingWithCopyWarning: \n",
            "A value is trying to be set on a copy of a slice from a DataFrame.\n",
            "Try using .loc[row_indexer,col_indexer] = value instead\n",
            "\n",
            "See the caveats in the documentation: https://pandas.pydata.org/pandas-docs/stable/user_guide/indexing.html#returning-a-view-versus-a-copy\n",
            "  X['errorBalanceDest']=X.oldbalanceDest+X.amount-X.newbalanceDest\n"
          ]
        }
      ]
    },
    {
      "cell_type": "code",
      "source": [
        "X.head()"
      ],
      "metadata": {
        "colab": {
          "base_uri": "https://localhost:8080/",
          "height": 206
        },
        "id": "ur2Xgr_fUdFN",
        "outputId": "ab4f1386-c1cd-4e7b-86dc-8a467e8356e5"
      },
      "execution_count": null,
      "outputs": [
        {
          "output_type": "execute_result",
          "data": {
            "text/plain": [
              "    step  type     amount  oldbalanceOrg  newbalanceOrig  oldbalanceDest  \\\n",
              "2      1     0     181.00          181.0             0.0             0.0   \n",
              "3      1     1     181.00          181.0             0.0         21182.0   \n",
              "15     1     1  229133.94        15325.0             0.0          5083.0   \n",
              "19     1     0  215310.30          705.0             0.0         22425.0   \n",
              "24     1     0  311685.89        10835.0             0.0          6267.0   \n",
              "\n",
              "    newbalanceDest  isFraud  isFlaggedFraud  errorBalanceOrig  \\\n",
              "2             0.00        1               0              0.00   \n",
              "3             0.00        1               0              0.00   \n",
              "15        51513.44        0               0         213808.94   \n",
              "19            0.00        0               0         214605.30   \n",
              "24      2719172.89        0               0         300850.89   \n",
              "\n",
              "    errorBalanceDest  \n",
              "2              181.0  \n",
              "3            21363.0  \n",
              "15          182703.5  \n",
              "19          237735.3  \n",
              "24        -2401220.0  "
            ],
            "text/html": [
              "\n",
              "  <div id=\"df-58b3fce8-8acc-4a95-bafa-fac25942fe21\" class=\"colab-df-container\">\n",
              "    <div>\n",
              "<style scoped>\n",
              "    .dataframe tbody tr th:only-of-type {\n",
              "        vertical-align: middle;\n",
              "    }\n",
              "\n",
              "    .dataframe tbody tr th {\n",
              "        vertical-align: top;\n",
              "    }\n",
              "\n",
              "    .dataframe thead th {\n",
              "        text-align: right;\n",
              "    }\n",
              "</style>\n",
              "<table border=\"1\" class=\"dataframe\">\n",
              "  <thead>\n",
              "    <tr style=\"text-align: right;\">\n",
              "      <th></th>\n",
              "      <th>step</th>\n",
              "      <th>type</th>\n",
              "      <th>amount</th>\n",
              "      <th>oldbalanceOrg</th>\n",
              "      <th>newbalanceOrig</th>\n",
              "      <th>oldbalanceDest</th>\n",
              "      <th>newbalanceDest</th>\n",
              "      <th>isFraud</th>\n",
              "      <th>isFlaggedFraud</th>\n",
              "      <th>errorBalanceOrig</th>\n",
              "      <th>errorBalanceDest</th>\n",
              "    </tr>\n",
              "  </thead>\n",
              "  <tbody>\n",
              "    <tr>\n",
              "      <th>2</th>\n",
              "      <td>1</td>\n",
              "      <td>0</td>\n",
              "      <td>181.00</td>\n",
              "      <td>181.0</td>\n",
              "      <td>0.0</td>\n",
              "      <td>0.0</td>\n",
              "      <td>0.00</td>\n",
              "      <td>1</td>\n",
              "      <td>0</td>\n",
              "      <td>0.00</td>\n",
              "      <td>181.0</td>\n",
              "    </tr>\n",
              "    <tr>\n",
              "      <th>3</th>\n",
              "      <td>1</td>\n",
              "      <td>1</td>\n",
              "      <td>181.00</td>\n",
              "      <td>181.0</td>\n",
              "      <td>0.0</td>\n",
              "      <td>21182.0</td>\n",
              "      <td>0.00</td>\n",
              "      <td>1</td>\n",
              "      <td>0</td>\n",
              "      <td>0.00</td>\n",
              "      <td>21363.0</td>\n",
              "    </tr>\n",
              "    <tr>\n",
              "      <th>15</th>\n",
              "      <td>1</td>\n",
              "      <td>1</td>\n",
              "      <td>229133.94</td>\n",
              "      <td>15325.0</td>\n",
              "      <td>0.0</td>\n",
              "      <td>5083.0</td>\n",
              "      <td>51513.44</td>\n",
              "      <td>0</td>\n",
              "      <td>0</td>\n",
              "      <td>213808.94</td>\n",
              "      <td>182703.5</td>\n",
              "    </tr>\n",
              "    <tr>\n",
              "      <th>19</th>\n",
              "      <td>1</td>\n",
              "      <td>0</td>\n",
              "      <td>215310.30</td>\n",
              "      <td>705.0</td>\n",
              "      <td>0.0</td>\n",
              "      <td>22425.0</td>\n",
              "      <td>0.00</td>\n",
              "      <td>0</td>\n",
              "      <td>0</td>\n",
              "      <td>214605.30</td>\n",
              "      <td>237735.3</td>\n",
              "    </tr>\n",
              "    <tr>\n",
              "      <th>24</th>\n",
              "      <td>1</td>\n",
              "      <td>0</td>\n",
              "      <td>311685.89</td>\n",
              "      <td>10835.0</td>\n",
              "      <td>0.0</td>\n",
              "      <td>6267.0</td>\n",
              "      <td>2719172.89</td>\n",
              "      <td>0</td>\n",
              "      <td>0</td>\n",
              "      <td>300850.89</td>\n",
              "      <td>-2401220.0</td>\n",
              "    </tr>\n",
              "  </tbody>\n",
              "</table>\n",
              "</div>\n",
              "    <div class=\"colab-df-buttons\">\n",
              "\n",
              "  <div class=\"colab-df-container\">\n",
              "    <button class=\"colab-df-convert\" onclick=\"convertToInteractive('df-58b3fce8-8acc-4a95-bafa-fac25942fe21')\"\n",
              "            title=\"Convert this dataframe to an interactive table.\"\n",
              "            style=\"display:none;\">\n",
              "\n",
              "  <svg xmlns=\"http://www.w3.org/2000/svg\" height=\"24px\" viewBox=\"0 -960 960 960\">\n",
              "    <path d=\"M120-120v-720h720v720H120Zm60-500h600v-160H180v160Zm220 220h160v-160H400v160Zm0 220h160v-160H400v160ZM180-400h160v-160H180v160Zm440 0h160v-160H620v160ZM180-180h160v-160H180v160Zm440 0h160v-160H620v160Z\"/>\n",
              "  </svg>\n",
              "    </button>\n",
              "\n",
              "  <style>\n",
              "    .colab-df-container {\n",
              "      display:flex;\n",
              "      gap: 12px;\n",
              "    }\n",
              "\n",
              "    .colab-df-convert {\n",
              "      background-color: #E8F0FE;\n",
              "      border: none;\n",
              "      border-radius: 50%;\n",
              "      cursor: pointer;\n",
              "      display: none;\n",
              "      fill: #1967D2;\n",
              "      height: 32px;\n",
              "      padding: 0 0 0 0;\n",
              "      width: 32px;\n",
              "    }\n",
              "\n",
              "    .colab-df-convert:hover {\n",
              "      background-color: #E2EBFA;\n",
              "      box-shadow: 0px 1px 2px rgba(60, 64, 67, 0.3), 0px 1px 3px 1px rgba(60, 64, 67, 0.15);\n",
              "      fill: #174EA6;\n",
              "    }\n",
              "\n",
              "    .colab-df-buttons div {\n",
              "      margin-bottom: 4px;\n",
              "    }\n",
              "\n",
              "    [theme=dark] .colab-df-convert {\n",
              "      background-color: #3B4455;\n",
              "      fill: #D2E3FC;\n",
              "    }\n",
              "\n",
              "    [theme=dark] .colab-df-convert:hover {\n",
              "      background-color: #434B5C;\n",
              "      box-shadow: 0px 1px 3px 1px rgba(0, 0, 0, 0.15);\n",
              "      filter: drop-shadow(0px 1px 2px rgba(0, 0, 0, 0.3));\n",
              "      fill: #FFFFFF;\n",
              "    }\n",
              "  </style>\n",
              "\n",
              "    <script>\n",
              "      const buttonEl =\n",
              "        document.querySelector('#df-58b3fce8-8acc-4a95-bafa-fac25942fe21 button.colab-df-convert');\n",
              "      buttonEl.style.display =\n",
              "        google.colab.kernel.accessAllowed ? 'block' : 'none';\n",
              "\n",
              "      async function convertToInteractive(key) {\n",
              "        const element = document.querySelector('#df-58b3fce8-8acc-4a95-bafa-fac25942fe21');\n",
              "        const dataTable =\n",
              "          await google.colab.kernel.invokeFunction('convertToInteractive',\n",
              "                                                    [key], {});\n",
              "        if (!dataTable) return;\n",
              "\n",
              "        const docLinkHtml = 'Like what you see? Visit the ' +\n",
              "          '<a target=\"_blank\" href=https://colab.research.google.com/notebooks/data_table.ipynb>data table notebook</a>'\n",
              "          + ' to learn more about interactive tables.';\n",
              "        element.innerHTML = '';\n",
              "        dataTable['output_type'] = 'display_data';\n",
              "        await google.colab.output.renderOutput(dataTable, element);\n",
              "        const docLink = document.createElement('div');\n",
              "        docLink.innerHTML = docLinkHtml;\n",
              "        element.appendChild(docLink);\n",
              "      }\n",
              "    </script>\n",
              "  </div>\n",
              "\n",
              "\n",
              "<div id=\"df-16db9010-3b38-46b0-9228-bccab0d12876\">\n",
              "  <button class=\"colab-df-quickchart\" onclick=\"quickchart('df-16db9010-3b38-46b0-9228-bccab0d12876')\"\n",
              "            title=\"Suggest charts\"\n",
              "            style=\"display:none;\">\n",
              "\n",
              "<svg xmlns=\"http://www.w3.org/2000/svg\" height=\"24px\"viewBox=\"0 0 24 24\"\n",
              "     width=\"24px\">\n",
              "    <g>\n",
              "        <path d=\"M19 3H5c-1.1 0-2 .9-2 2v14c0 1.1.9 2 2 2h14c1.1 0 2-.9 2-2V5c0-1.1-.9-2-2-2zM9 17H7v-7h2v7zm4 0h-2V7h2v10zm4 0h-2v-4h2v4z\"/>\n",
              "    </g>\n",
              "</svg>\n",
              "  </button>\n",
              "\n",
              "<style>\n",
              "  .colab-df-quickchart {\n",
              "      --bg-color: #E8F0FE;\n",
              "      --fill-color: #1967D2;\n",
              "      --hover-bg-color: #E2EBFA;\n",
              "      --hover-fill-color: #174EA6;\n",
              "      --disabled-fill-color: #AAA;\n",
              "      --disabled-bg-color: #DDD;\n",
              "  }\n",
              "\n",
              "  [theme=dark] .colab-df-quickchart {\n",
              "      --bg-color: #3B4455;\n",
              "      --fill-color: #D2E3FC;\n",
              "      --hover-bg-color: #434B5C;\n",
              "      --hover-fill-color: #FFFFFF;\n",
              "      --disabled-bg-color: #3B4455;\n",
              "      --disabled-fill-color: #666;\n",
              "  }\n",
              "\n",
              "  .colab-df-quickchart {\n",
              "    background-color: var(--bg-color);\n",
              "    border: none;\n",
              "    border-radius: 50%;\n",
              "    cursor: pointer;\n",
              "    display: none;\n",
              "    fill: var(--fill-color);\n",
              "    height: 32px;\n",
              "    padding: 0;\n",
              "    width: 32px;\n",
              "  }\n",
              "\n",
              "  .colab-df-quickchart:hover {\n",
              "    background-color: var(--hover-bg-color);\n",
              "    box-shadow: 0 1px 2px rgba(60, 64, 67, 0.3), 0 1px 3px 1px rgba(60, 64, 67, 0.15);\n",
              "    fill: var(--button-hover-fill-color);\n",
              "  }\n",
              "\n",
              "  .colab-df-quickchart-complete:disabled,\n",
              "  .colab-df-quickchart-complete:disabled:hover {\n",
              "    background-color: var(--disabled-bg-color);\n",
              "    fill: var(--disabled-fill-color);\n",
              "    box-shadow: none;\n",
              "  }\n",
              "\n",
              "  .colab-df-spinner {\n",
              "    border: 2px solid var(--fill-color);\n",
              "    border-color: transparent;\n",
              "    border-bottom-color: var(--fill-color);\n",
              "    animation:\n",
              "      spin 1s steps(1) infinite;\n",
              "  }\n",
              "\n",
              "  @keyframes spin {\n",
              "    0% {\n",
              "      border-color: transparent;\n",
              "      border-bottom-color: var(--fill-color);\n",
              "      border-left-color: var(--fill-color);\n",
              "    }\n",
              "    20% {\n",
              "      border-color: transparent;\n",
              "      border-left-color: var(--fill-color);\n",
              "      border-top-color: var(--fill-color);\n",
              "    }\n",
              "    30% {\n",
              "      border-color: transparent;\n",
              "      border-left-color: var(--fill-color);\n",
              "      border-top-color: var(--fill-color);\n",
              "      border-right-color: var(--fill-color);\n",
              "    }\n",
              "    40% {\n",
              "      border-color: transparent;\n",
              "      border-right-color: var(--fill-color);\n",
              "      border-top-color: var(--fill-color);\n",
              "    }\n",
              "    60% {\n",
              "      border-color: transparent;\n",
              "      border-right-color: var(--fill-color);\n",
              "    }\n",
              "    80% {\n",
              "      border-color: transparent;\n",
              "      border-right-color: var(--fill-color);\n",
              "      border-bottom-color: var(--fill-color);\n",
              "    }\n",
              "    90% {\n",
              "      border-color: transparent;\n",
              "      border-bottom-color: var(--fill-color);\n",
              "    }\n",
              "  }\n",
              "</style>\n",
              "\n",
              "  <script>\n",
              "    async function quickchart(key) {\n",
              "      const quickchartButtonEl =\n",
              "        document.querySelector('#' + key + ' button');\n",
              "      quickchartButtonEl.disabled = true;  // To prevent multiple clicks.\n",
              "      quickchartButtonEl.classList.add('colab-df-spinner');\n",
              "      try {\n",
              "        const charts = await google.colab.kernel.invokeFunction(\n",
              "            'suggestCharts', [key], {});\n",
              "      } catch (error) {\n",
              "        console.error('Error during call to suggestCharts:', error);\n",
              "      }\n",
              "      quickchartButtonEl.classList.remove('colab-df-spinner');\n",
              "      quickchartButtonEl.classList.add('colab-df-quickchart-complete');\n",
              "    }\n",
              "    (() => {\n",
              "      let quickchartButtonEl =\n",
              "        document.querySelector('#df-16db9010-3b38-46b0-9228-bccab0d12876 button');\n",
              "      quickchartButtonEl.style.display =\n",
              "        google.colab.kernel.accessAllowed ? 'block' : 'none';\n",
              "    })();\n",
              "  </script>\n",
              "</div>\n",
              "\n",
              "    </div>\n",
              "  </div>\n"
            ],
            "application/vnd.google.colaboratory.intrinsic+json": {
              "type": "dataframe",
              "variable_name": "X"
            }
          },
          "metadata": {},
          "execution_count": 104
        }
      ]
    },
    {
      "cell_type": "markdown",
      "source": [
        "### 5. Data Splitting"
      ],
      "metadata": {
        "id": "2x9vHAQhXQnj"
      }
    },
    {
      "cell_type": "code",
      "source": [
        "# Making our independent set\n",
        "Y=X['isFraud']\n",
        "# Removing the dependent set\n",
        "X=X.drop(['isFraud'], axis = 1)\n",
        "# Getting the shapes of x and y\n",
        "print('Shape of x: ', X.shape)\n",
        "print('Shape of y: ', Y.shape)"
      ],
      "metadata": {
        "id": "rCrB6kH_fJy3"
      },
      "execution_count": null,
      "outputs": []
    },
    {
      "cell_type": "code",
      "source": [
        "# OVER-SAMPLING\n",
        "x_resample, y_resample = SMOTE().fit_resample(X, Y.ravel())\n",
        "# getting the shapes of x and y after resampling\n",
        "print(\"Shape of x: \", x_resample.shape)\n",
        "print(\"Shape of y:\", y_resample.shape)"
      ],
      "metadata": {
        "id": "CCU8J1dZaWE8"
      },
      "execution_count": null,
      "outputs": []
    },
    {
      "cell_type": "code",
      "source": [
        "# Split your data to train and test. Choose Splitting ratio wisely.\n",
        "x_train, x_test, y_train, y_test=train_test_split(x_resample, y_resample, test_size=0.2, random_state=0)\n",
        "# Checking the new shapes\n",
        "print(\"Shape of x_train: \", x_train.shape)\n",
        "print(\"Shape of x_test: \", x_test.shape)\n",
        "print(\"Shape of y_train: \", y_train.shape)\n",
        "print(\"Shape of y_test: \", y_test.shape)"
      ],
      "metadata": {
        "colab": {
          "base_uri": "https://localhost:8080/"
        },
        "id": "7wTJzo0IXQnj",
        "outputId": "38f60c66-3bb0-4b71-e25a-e360c46611c7"
      },
      "execution_count": null,
      "outputs": [
        {
          "output_type": "stream",
          "name": "stdout",
          "text": [
            "Shape of x_train:  (4419513, 10)\n",
            "Shape of x_test:  (1104879, 10)\n",
            "Shape of y_train:  (4419513,)\n",
            "Shape of y_test:  (1104879,)\n"
          ]
        }
      ]
    },
    {
      "cell_type": "code",
      "source": [
        "# Performing standard scaling on the data for better fit\n",
        "sc=StandardScaler()\n",
        "x_train=sc.fit_transform(x_train)\n",
        "x_test=sc.transform(x_test)"
      ],
      "metadata": {
        "id": "Kz8GOBZ3X1KK"
      },
      "execution_count": null,
      "outputs": []
    },
    {
      "cell_type": "markdown",
      "source": [
        "## ***7. ML Model Implementation***"
      ],
      "metadata": {
        "id": "VfCC591jGiD4"
      }
    },
    {
      "cell_type": "markdown",
      "source": [
        "### ML Model - 1"
      ],
      "metadata": {
        "id": "OB4l2ZhMeS1U"
      }
    },
    {
      "cell_type": "markdown",
      "source": [
        "**Xg-Boost Model**"
      ],
      "metadata": {
        "id": "UpkIDy7WfyaV"
      }
    },
    {
      "cell_type": "code",
      "source": [
        "# ML Model - 1 Implementation\n",
        "model=XGBClassifier()\n",
        "model.fit(x_train, y_train)\n",
        "y_pred=model.predict(x_test)\n",
        "# score of the model\n",
        "auprc=average_precision_score(y_test, y_pred)\n",
        "print(\"The Area under Precision Recall Curve Score is\", auprc)"
      ],
      "metadata": {
        "id": "7ebyywQieS1U",
        "colab": {
          "base_uri": "https://localhost:8080/"
        },
        "outputId": "b140e2f2-5712-4f56-ed84-857d44e0e652"
      },
      "execution_count": null,
      "outputs": [
        {
          "output_type": "stream",
          "name": "stdout",
          "text": [
            "The Area under Precision Recall Curve Score is 0.9985114332833311\n"
          ]
        }
      ]
    },
    {
      "cell_type": "code",
      "source": [
        "# Visualizing evaluation Metric Score chart\n",
        "cm=confusion_matrix(y_test, y_pred)\n",
        "print(cm)"
      ],
      "metadata": {
        "id": "rqD5ZohzfxKe",
        "colab": {
          "base_uri": "https://localhost:8080/"
        },
        "outputId": "a6c414db-fdb7-41ba-ceeb-4bfc017b662a"
      },
      "execution_count": null,
      "outputs": [
        {
          "output_type": "stream",
          "name": "stdout",
          "text": [
            "[[552407    713]\n",
            " [   300 551459]]\n"
          ]
        }
      ]
    },
    {
      "cell_type": "code",
      "source": [
        "fig, ax = plt.subplots(1, 2, figsize=(20,5))\n",
        "ax[0].set_title('Confusion Matrix of Xg-Boost Model:')\n",
        "ConfusionMatrixDisplay.from_predictions(y_test, y_pred, colorbar=False, values_format='', cmap='crest', ax=ax[0])\n",
        "ax[0].grid(False)\n",
        "\n",
        "fpr, tpr, thresholds = roc_curve(y_test, y_pred)\n",
        "roc_auc=auc(fpr, tpr)\n",
        "ax[1].set_title('ROC Curve-Xg-Boost')\n",
        "ax[1].plot(fpr, tpr, label='AUC = %0.3f' % roc_auc, c='steelblue')\n",
        "ax[1].plot([0,1],[0,1],'--', c='lightsteelblue')\n",
        "ax[1].legend(loc='lower right')\n",
        "ax[1].set_ylabel('True Positive Rate')\n",
        "ax[1].set_xlabel('False Positive Rate')"
      ],
      "metadata": {
        "colab": {
          "base_uri": "https://localhost:8080/",
          "height": 443
        },
        "id": "h9zjY-6zmTf3",
        "outputId": "b172566d-3168-44d8-b663-befe748bfdcb"
      },
      "execution_count": null,
      "outputs": [
        {
          "output_type": "execute_result",
          "data": {
            "text/plain": [
              "Text(0.5, 0, 'False Positive Rate')"
            ]
          },
          "metadata": {},
          "execution_count": 137
        },
        {
          "output_type": "display_data",
          "data": {
            "text/plain": [
              "<Figure size 2000x500 with 2 Axes>"
            ],
            "image/png": "[encoded data removed]"
          },
          "metadata": {}
        }
      ]
    },
    {
      "cell_type": "markdown",
      "source": [
        "# **Conclusion**"
      ],
      "metadata": {
        "id": "gCX9965dhzqZ"
      }
    },
    {
      "cell_type": "markdown",
      "source": [
        "*The Xg-Boost model has emerged as the top performer in the task of identifying fraudulent and non-fraudulent payments. Among all the models tested, Xg-Boost achieved the highest score, highlighting its superior performance in this domain. One of the key metrics used to evaluate the effectiveness of a classification model is the Area Under the Curve (AUC) of the Receiver Operating Characteristic (ROC) curve. For the Xg-Boost model, the AUC score is an impressive 0.998. This score is very close to 1, indicating an excellent ability to distinguish between the positive and negative classes—in this case, fraudulent and non-fraudulent payments.*\n",
        "\n",
        "*An AUC of 0.998 suggests that the Xg-Boost model has a 99.8% probability of correctly differentiating between a fraudulent and a non-fraudulent transaction. This high level of accuracy is crucial in practical applications, where the cost of incorrectly classifying a fraudulent payment as legitimate (or vice versa) can be substantial. The model’s near-perfect separability measure means it is highly reliable and efficient in identifying payment fraud, which is a critical aspect of maintaining the integrity of financial systems. Overall, the Xg-Boost model’s outstanding performance underscores its utility and robustness in the detection of fraudulent activities in payment systems.*"
      ],
      "metadata": {
        "id": "Fjb1IsQkh3yE"
      }
    },
    {
      "cell_type": "markdown",
      "source": [
        "### ***Hurrah! You have successfully completed your Machine Learning Capstone Project !!!***"
      ],
      "metadata": {
        "id": "gIfDvo9L0UH2"
      }
    },
    {
      "cell_type": "markdown",
      "source": [
        "**Created by:** Vishal Sinha Roy\n",
        "\n",
        "**Email:** vishalsingha.r05@gmail.com"
      ],
      "metadata": {
        "id": "9J8tr9-tWdMl"
      }
    }
  ]
}